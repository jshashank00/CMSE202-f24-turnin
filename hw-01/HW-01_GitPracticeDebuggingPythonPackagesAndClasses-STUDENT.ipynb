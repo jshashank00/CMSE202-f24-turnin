{
 "cells": [
  {
   "cell_type": "markdown",
   "metadata": {},
   "source": [
    "# Homework Assignment 1\n",
    "## Git practice, debugging practice, and new Python packages, and Python classes"
   ]
  },
  {
   "cell_type": "markdown",
   "metadata": {},
   "source": [
    "### <p style=\"text-align: right;\"> &#9989; Shashank Jayaram.</p>\n",
    "### <p style=\"text-align: right;\"> &#9989; jshashank00.</p>"
   ]
  },
  {
   "cell_type": "markdown",
   "metadata": {},
   "source": [
    "### Goals for this homework assignment\n",
    "By the end of this assignment, you should be able to:\n",
    "* Use Git to create a repository, track changes to the files within the repository, and push those changes to a remote repository.\n",
    "* Debug some basic Python code that involves Pandas.\n",
    "* Read documentation and example code to use a new Python package\n",
    "* Modify and use a simple Python class\n",
    "\n",
    "Work through the following assignment, making sure to follow all of the directions and answer all of the questions.\n",
    "\n",
    "There are **54 points** possible on this assignment. Point values for each part are included in the section headers and question prompts.\n",
    "\n",
    "**This assignment is due at 11:59 pm on Friday, September 27.** It should be uploaded into the \"Homework Assignments\" submission folder for Homework #1 on D2L.  Submission instructions can be found at the end of the notebook. **You must also fill out a survey regarding this assignment.** The link to this survey can also be found at the end of the notebook."
   ]
  },
  {
   "cell_type": "markdown",
   "metadata": {},
   "source": [
    "\n",
    "<a id=\"toc\"></a>\n",
    "\n",
    "## Table of contents\n",
    "\n",
    "0. [Part 0: Office Hours and Help Room](#ofhrs) (6 points) \n",
    "\n",
    "1. [Part 1: Git and CLI](#gits) (10 points)\n",
    "\n",
    "2. [Part 2: Pandas](#pandas) (11 points)\n",
    "\n",
    "3. [Part 3: Using documentation to use a new Python package](#pillow) (8 points)\n",
    "\n",
    "4. [Part 4: Practice with using Python classes](#classes) (12 points)\n",
    "\n",
    "5. [Part 5: Finishing](#conclusion) (4 points)\n",
    "\n",
    "(3 points for periodic commits)"
   ]
  },
  {
   "cell_type": "markdown",
   "metadata": {},
   "source": [
    "---\n",
    "<a id=\"ofhrs\"></a>\n",
    "[Back to ToC](#toc)\n",
    "\n",
    "\n",
    "## Part 0: Visiting Office Hours or Help Room (6 points)\n"
   ]
  },
  {
   "cell_type": "markdown",
   "metadata": {},
   "source": [
    "### Going to Office Hours or Help Room\n",
    "\n",
    "#### Why are we doing this?\n",
    "We want to make sure that everyone knows how to access the resources available to you. One of the best resources you have at your disposal is office hours and help room.\n",
    "\n",
    "#### What will you do?\n",
    "(At minimum) Go to one office hour or help room session ​(it doesn’t matter which one you go to). Come with one question that you would like to talk about. It can be big or small. It can be about the homework, but it doesn't have to be. It can be anything about the course or about computational modeling and data analysis in general.\n",
    "\n",
    "Once you get to office hours or help room, ask your question. All of the instructors for CMSE 202 (Professors, TAs, and LAs) will be adding to a running list of folks that we see during office hours; as long as your name appears on the list, you’ll get credit for this part of Homework 1.\n",
    "\n",
    "**NOTE:** The day when the homework is due (**Friday, September 27 at 11:59pm**) will be the busiest time for folks to go to office hours or help room. You are **STRONGLY** encouraged to go to office hours or help room before Friday to get credit for this part of this assignment. (You should still feel free to go to office hours or helproom on Friday for help, though!)\n",
    "\n",
    "You can find the office hours calendar on the [course website](https://cmse.msu.edu/cmse202).\n",
    "\n",
    "**FINAL NOTE:** If you are unable to attend office hours or help room, please contact the instructor to make alternative arrangements and explain why you are unable to attend."
   ]
  },
  {
   "cell_type": "markdown",
   "metadata": {},
   "source": [
    "**&#9989; **Question 0.1 (6 points)****\n",
    "\n",
    "Type below the question you asked and **who you asked it to** (make sure you know who you're talking to!). Make sure you double-check that the instructor made note of this.\n",
    "\n",
    "If you did not attend office hours or help room, please explain why."
   ]
  },
  {
   "cell_type": "markdown",
   "metadata": {},
   "source": [
    "<font size=6 color=\"#009600\">&#9998;</font> *How to move HW file to this directory.*\n",
    "\n",
    "<font size=6 color=\"#009600\">&#9998;</font> *Keerthi Gogineni*"
   ]
  },
  {
   "cell_type": "markdown",
   "metadata": {},
   "source": [
    "---\n",
    "<a id=\"gits\"></a>\n",
    "[Back to ToC](#toc)\n",
    "\n",
    "## Part 1: CLI and Git (10 points)\n",
    "\n",
    "### Setting up a new folder in your Git repository and adding your HW1\n",
    "`git` is a very important professional tool and we want you to get plenty of practice using it. The following set of questions check your understanding of using Git and the command line by having you add, commit, and push your homework file in your `cmse202-f24-turnin` repository. You will **share this repo with your course lead instructor and TA** so that they can pull your completed assignments for grading. Additionally, please verify that your repository is setup as a `private` repository rather than a `public` repository. "
   ]
  },
  {
   "cell_type": "markdown",
   "metadata": {},
   "source": [
    "&#9989; **Question 1.1 (2 points)**:\n",
    "1. Navigate to your turnin repository on Github and add your instructor and TA as a collaborator for the repository. This step is very important since we will need access to your repository to check the status of commits for homework assignments throughout the semester. To show you've done this, write the Github usernames of the instructor and TA below. "
   ]
  },
  {
   "cell_type": "markdown",
   "metadata": {},
   "source": [
    "```\n",
    "### Write the Github usernames here ###\n",
    "```\n",
    "hoolagans, keerthigogineni08"
   ]
  },
  {
   "cell_type": "markdown",
   "metadata": {},
   "source": [
    "&#9989; **Question 1.2 (2 points)**:\n",
    "1. If you haven't already. Clone your `cmse202-f24-turnin` repository onto JupyterHub or your computer and paste the code you used to clone the repository below. Even if you already have it cloned, paste the code you would use to clone the repository below. "
   ]
  },
  {
   "cell_type": "markdown",
   "metadata": {},
   "source": [
    "``` bash\n",
    "# Put the command you used to clone the repository here\n",
    "```\n",
    "git clone https://github.com/jshashank00/CMSE202-f24-turnin.git"
   ]
  },
  {
   "cell_type": "markdown",
   "metadata": {},
   "source": [
    "&#9989; **Question 1.3 (1 point)**: Open a terminal. Then using the command line interface, move inside the repository folder\n",
    "\n",
    "What command did you use to enter into the folder?"
   ]
  },
  {
   "cell_type": "markdown",
   "metadata": {},
   "source": [
    "```bash\n",
    "# Put the command to move into a new directory here.\n",
    "```\n",
    "cd CMSE202-f24-turnin"
   ]
  },
  {
   "cell_type": "markdown",
   "metadata": {},
   "source": [
    "&#9989; **Question 1.4 (1 point)**: Once inside the `cmse202-f24-turnin` repository, create a new folder called `hw-01`.\n",
    "\n",
    "What is the command to create the new folder ?"
   ]
  },
  {
   "cell_type": "markdown",
   "metadata": {},
   "source": [
    "```bash\n",
    "# Put the command to create the folder/directory here\n",
    "```\n",
    "mkdir hw-01"
   ]
  },
  {
   "cell_type": "markdown",
   "metadata": {},
   "source": [
    "&#9989; **Question 1.5 (1 point)**: Move this notebook into that **new directory** in your repository. Move the file using the command line. Paste the code you used to move the file below. \n",
    "\n",
    "<font color=\"red\">**This is an important step**</font>: you'll want to make sure you **save and close** the notebook before you do this step and then re-open it once you've added it to your repository. If you don't do this, you could end up working on the wrong version of the notebook! Once you've moved the notebook correctly, re-open it and continue working on it.\n"
   ]
  },
  {
   "cell_type": "markdown",
   "metadata": {},
   "source": [
    "```bash\n",
    "# Put the command you used to move your homework 1 file into the hw-01 folder. \n",
    "```\n",
<<<<<<< HEAD
    "mv notebooks/HW-01_GitPracticeDebuggingPythonPackagesAndClasses-STUDENT.ipynb repositories/CMSE202-f24-turnin/hw-01"
=======
    "mv notebooks/HW-01_GitPracticeDebuggingPythonPackagesAndClasses-STUDENT.ipynb repositories/CMSE202-f24-turnin/hw-01\n"
>>>>>>> b221b9bee5101e6b7ad5139feaab1c325ac4d49b
   ]
  },
  {
   "cell_type": "markdown",
   "metadata": {},
   "source": [
    "&#9989; **Question 1.6 (3 points)**: Now that you have the file moved into your repository in hw-01. Add, commit, and push your updates to GitHub. Record all the code you used to add, commit, and push your changes below. "
   ]
  },
  {
   "cell_type": "code",
   "execution_count": 1,
   "metadata": {},
   "outputs": [],
   "source": [
<<<<<<< HEAD
    "\n",
=======
    "```bash\n",
    "# Put your code here. \n",
    "```\n",
>>>>>>> b221b9bee5101e6b7ad5139feaab1c325ac4d49b
    "# git add .\n",
    "# git commit -a -m \"Added file\"\n",
    "# git push"
   ]
  },
  {
   "cell_type": "markdown",
   "metadata": {},
   "source": [
    "### Before moving on...\n",
    "\n",
    "**Important**: Make sure you've added your Professor and your TA as collaborators to your new \"turnin\" respository with \"Read\" access so that they can see your assignment. \n",
    "\n",
    "**Double-check the following**: Make sure that the version of this notebook that you are working on is the same one that you just added to your repository! If you are working on a different copy of the notebook, **none of your changes will be tracked**.\n",
    "\n",
    "If everything went as intended, **the file should now show up on your GitHub account** in the \"`cmse202-f24-turnin`\" repository inside the `hw-01` directory that you just created.  Periodically, **you'll be asked to commit your changes to the repository. By the end of the assignment you should have multiple commits that correspond to your completion of each section (as specified below)**. Of course, you can always commit your changes more often than that, if you wish.  It can be good to get into a habit of committing your changes any time you make a significant modification, or when you stop working on the project for a bit.\n"
   ]
  },
  {
   "cell_type": "markdown",
   "metadata": {},
   "source": [
    "---\n",
    "<a id=\"pandas\"></a>\n",
    "[Back to ToC](#toc)\n",
    "\n",
    "## Part 2: Using Pandas to Explore Data (11 points)\n",
    "\n",
    "### Reading in a data set with Pandas and using Pandas to explore the data.\n",
    "\n",
    "In this section, you will practice reading in a data set using with Pandas and use pandas functions to explore the dataset. You will explore the `auto_price.csv` file, which is a commonly used data set in the field of machine learning and data science which has data about many different cars and their prices. \n",
    "\n"
   ]
  },
  {
   "cell_type": "markdown",
   "metadata": {},
   "source": [
    "### Import Pandas before moving on!"
   ]
  },
  {
   "cell_type": "code",
<<<<<<< HEAD
   "execution_count": 2,
=======
   "execution_count": 6,
>>>>>>> b221b9bee5101e6b7ad5139feaab1c325ac4d49b
   "metadata": {},
   "outputs": [
    {
     "name": "stdout",
     "output_type": "stream",
     "text": [
      "Collecting matplotlib\n",
      "  Downloading matplotlib-3.9.2-cp312-cp312-win_amd64.whl.metadata (11 kB)\n",
      "Collecting contourpy>=1.0.1 (from matplotlib)\n",
      "  Downloading contourpy-1.3.0-cp312-cp312-win_amd64.whl.metadata (5.4 kB)\n",
      "Collecting cycler>=0.10 (from matplotlib)\n",
      "  Downloading cycler-0.12.1-py3-none-any.whl.metadata (3.8 kB)\n",
      "Collecting fonttools>=4.22.0 (from matplotlib)\n",
      "  Downloading fonttools-4.54.1-cp312-cp312-win_amd64.whl.metadata (167 kB)\n",
      "Collecting kiwisolver>=1.3.1 (from matplotlib)\n",
      "  Downloading kiwisolver-1.4.7-cp312-cp312-win_amd64.whl.metadata (6.4 kB)\n",
      "Requirement already satisfied: numpy>=1.23 in c:\\users\\shash\\appdata\\local\\programs\\python\\python312\\lib\\site-packages (from matplotlib) (2.1.1)\n",
      "Requirement already satisfied: packaging>=20.0 in c:\\users\\shash\\appdata\\roaming\\python\\python312\\site-packages (from matplotlib) (24.1)\n",
      "Collecting pillow>=8 (from matplotlib)\n",
      "  Downloading pillow-10.4.0-cp312-cp312-win_amd64.whl.metadata (9.3 kB)\n",
      "Collecting pyparsing>=2.3.1 (from matplotlib)\n",
      "  Downloading pyparsing-3.1.4-py3-none-any.whl.metadata (5.1 kB)\n",
      "Requirement already satisfied: python-dateutil>=2.7 in c:\\users\\shash\\appdata\\roaming\\python\\python312\\site-packages (from matplotlib) (2.9.0.post0)\n",
      "Requirement already satisfied: six>=1.5 in c:\\users\\shash\\appdata\\roaming\\python\\python312\\site-packages (from python-dateutil>=2.7->matplotlib) (1.16.0)\n",
      "Downloading matplotlib-3.9.2-cp312-cp312-win_amd64.whl (7.8 MB)\n",
      "   ---------------------------------------- 0.0/7.8 MB ? eta -:--:--\n",
      "   -- ------------------------------------- 0.5/7.8 MB 2.4 MB/s eta 0:00:04\n",
      "   ------ --------------------------------- 1.3/7.8 MB 3.2 MB/s eta 0:00:03\n",
      "   ---------- ----------------------------- 2.1/7.8 MB 3.5 MB/s eta 0:00:02\n",
      "   -------------- ------------------------- 2.9/7.8 MB 3.4 MB/s eta 0:00:02\n",
      "   ------------------ --------------------- 3.7/7.8 MB 3.6 MB/s eta 0:00:02\n",
      "   --------------------- ------------------ 4.2/7.8 MB 3.4 MB/s eta 0:00:02\n",
      "   --------------------- ------------------ 4.2/7.8 MB 3.4 MB/s eta 0:00:02\n",
      "   ---------------------- ----------------- 4.5/7.8 MB 3.0 MB/s eta 0:00:02\n",
      "   ------------------------ --------------- 4.7/7.8 MB 2.7 MB/s eta 0:00:02\n",
      "   ------------------------- -------------- 5.0/7.8 MB 2.5 MB/s eta 0:00:02\n",
      "   -------------------------- ------------- 5.2/7.8 MB 2.4 MB/s eta 0:00:02\n",
      "   ---------------------------- ----------- 5.5/7.8 MB 2.2 MB/s eta 0:00:02\n",
      "   ----------------------------- ---------- 5.8/7.8 MB 2.1 MB/s eta 0:00:01\n",
      "   ------------------------------ --------- 6.0/7.8 MB 2.1 MB/s eta 0:00:01\n",
      "   -------------------------------- ------- 6.3/7.8 MB 2.0 MB/s eta 0:00:01\n",
      "   --------------------------------- ------ 6.6/7.8 MB 1.9 MB/s eta 0:00:01\n",
      "   ---------------------------------- ----- 6.8/7.8 MB 1.9 MB/s eta 0:00:01\n",
      "   ------------------------------------ --- 7.1/7.8 MB 1.8 MB/s eta 0:00:01\n",
      "   ------------------------------------- -- 7.3/7.8 MB 1.8 MB/s eta 0:00:01\n",
      "   -------------------------------------- - 7.6/7.8 MB 1.8 MB/s eta 0:00:01\n",
      "   -------------------------------------- - 7.6/7.8 MB 1.8 MB/s eta 0:00:01\n",
      "   ---------------------------------------- 7.8/7.8 MB 1.7 MB/s eta 0:00:00\n",
      "Downloading contourpy-1.3.0-cp312-cp312-win_amd64.whl (218 kB)\n",
      "Downloading cycler-0.12.1-py3-none-any.whl (8.3 kB)\n",
      "Downloading fonttools-4.54.1-cp312-cp312-win_amd64.whl (2.2 MB)\n",
      "   ---------------------------------------- 0.0/2.2 MB ? eta -:--:--\n",
      "   ---------------------------------------- 0.0/2.2 MB ? eta -:--:--\n",
      "   ---- ----------------------------------- 0.3/2.2 MB ? eta -:--:--\n",
      "   --------- ------------------------------ 0.5/2.2 MB 1.2 MB/s eta 0:00:02\n",
      "   --------- ------------------------------ 0.5/2.2 MB 1.2 MB/s eta 0:00:02\n",
      "   -------------- ------------------------- 0.8/2.2 MB 860.9 kB/s eta 0:00:02\n",
      "   ------------------- -------------------- 1.0/2.2 MB 853.0 kB/s eta 0:00:02\n",
      "   ----------------------- ---------------- 1.3/2.2 MB 945.5 kB/s eta 0:00:01\n",
      "   ---------------------------- ----------- 1.6/2.2 MB 1.0 MB/s eta 0:00:01\n",
      "   --------------------------------- ------ 1.8/2.2 MB 1.0 MB/s eta 0:00:01\n",
      "   ---------------------------------------- 2.2/2.2 MB 1.1 MB/s eta 0:00:00\n",
      "Downloading kiwisolver-1.4.7-cp312-cp312-win_amd64.whl (55 kB)\n",
      "Downloading pillow-10.4.0-cp312-cp312-win_amd64.whl (2.6 MB)\n",
      "   ---------------------------------------- 0.0/2.6 MB ? eta -:--:--\n",
      "   ---- ----------------------------------- 0.3/2.6 MB ? eta -:--:--\n",
      "   ------------ --------------------------- 0.8/2.6 MB 2.4 MB/s eta 0:00:01\n",
      "   -------------------- ------------------- 1.3/2.6 MB 2.4 MB/s eta 0:00:01\n",
      "   ---------------------------- ----------- 1.8/2.6 MB 2.4 MB/s eta 0:00:01\n",
      "   ------------------------------------ --- 2.4/2.6 MB 2.4 MB/s eta 0:00:01\n",
      "   ---------------------------------------- 2.6/2.6 MB 2.2 MB/s eta 0:00:00\n",
      "Downloading pyparsing-3.1.4-py3-none-any.whl (104 kB)\n",
      "Installing collected packages: pyparsing, pillow, kiwisolver, fonttools, cycler, contourpy, matplotlib\n",
      "Successfully installed contourpy-1.3.0 cycler-0.12.1 fonttools-4.54.1 kiwisolver-1.4.7 matplotlib-3.9.2 pillow-10.4.0 pyparsing-3.1.4\n"
     ]
    }
   ],
   "source": [
    "# Import Pandas and matplotlib\n",
<<<<<<< HEAD
    "import pandas as pd \n",
    "import matplotlib.pyplot as plt"
=======
    "!pip install matplotlib\n",
    "\n",
    "import pandas as pd "
>>>>>>> b221b9bee5101e6b7ad5139feaab1c325ac4d49b
   ]
  },
  {
   "cell_type": "markdown",
   "metadata": {},
   "source": [
    "&#9989; **Questions 2.1 (2 points)**: Use Pandas to load in the `auto_price.csv` file as a DataFrame and then display the first 10 lines of the file. You can download the file using curl with https://raw.githubusercontent.com/hoolagans/CMSE202_FS24/main/auto_price.csv."
   ]
  },
  {
   "cell_type": "code",
<<<<<<< HEAD
   "execution_count": 3,
=======
   "execution_count": 7,
>>>>>>> b221b9bee5101e6b7ad5139feaab1c325ac4d49b
   "metadata": {},
   "outputs": [
    {
     "data": {
      "text/html": [
       "<div>\n",
       "<style scoped>\n",
       "    .dataframe tbody tr th:only-of-type {\n",
       "        vertical-align: middle;\n",
       "    }\n",
       "\n",
       "    .dataframe tbody tr th {\n",
       "        vertical-align: top;\n",
       "    }\n",
       "\n",
       "    .dataframe thead th {\n",
       "        text-align: right;\n",
       "    }\n",
       "</style>\n",
       "<table border=\"1\" class=\"dataframe\">\n",
       "  <thead>\n",
       "    <tr style=\"text-align: right;\">\n",
       "      <th></th>\n",
       "      <th>symboling</th>\n",
       "      <th>normalized-losses</th>\n",
       "      <th>wheel-base</th>\n",
       "      <th>length</th>\n",
       "      <th>width</th>\n",
       "      <th>height</th>\n",
       "      <th>curb-weight</th>\n",
       "      <th>engine-size</th>\n",
       "      <th>bore</th>\n",
       "      <th>stroke</th>\n",
       "      <th>compression-ratio</th>\n",
       "      <th>horsepower</th>\n",
       "      <th>peak-rpm</th>\n",
       "      <th>city-mpg</th>\n",
       "      <th>highway-mpg</th>\n",
       "      <th>target</th>\n",
       "    </tr>\n",
       "  </thead>\n",
       "  <tbody>\n",
       "    <tr>\n",
       "      <th>0</th>\n",
       "      <td>5.0</td>\n",
       "      <td>164.0</td>\n",
       "      <td>99.800003</td>\n",
       "      <td>176.600006</td>\n",
       "      <td>66.199997</td>\n",
       "      <td>54.299999</td>\n",
       "      <td>2337.0</td>\n",
       "      <td>109.0</td>\n",
       "      <td>3.19</td>\n",
       "      <td>3.40</td>\n",
       "      <td>10.0</td>\n",
       "      <td>102.0</td>\n",
       "      <td>5500.0</td>\n",
       "      <td>24.0</td>\n",
       "      <td>30.0</td>\n",
       "      <td>13950.0</td>\n",
       "    </tr>\n",
       "    <tr>\n",
       "      <th>1</th>\n",
       "      <td>5.0</td>\n",
       "      <td>164.0</td>\n",
       "      <td>99.400002</td>\n",
       "      <td>176.600006</td>\n",
       "      <td>66.400002</td>\n",
       "      <td>54.299999</td>\n",
       "      <td>2824.0</td>\n",
       "      <td>136.0</td>\n",
       "      <td>3.19</td>\n",
       "      <td>3.40</td>\n",
       "      <td>8.0</td>\n",
       "      <td>115.0</td>\n",
       "      <td>5500.0</td>\n",
       "      <td>18.0</td>\n",
       "      <td>22.0</td>\n",
       "      <td>17450.0</td>\n",
       "    </tr>\n",
       "    <tr>\n",
       "      <th>2</th>\n",
       "      <td>4.0</td>\n",
       "      <td>158.0</td>\n",
       "      <td>105.800003</td>\n",
       "      <td>192.699997</td>\n",
       "      <td>71.400002</td>\n",
       "      <td>55.700001</td>\n",
       "      <td>2844.0</td>\n",
       "      <td>136.0</td>\n",
       "      <td>3.19</td>\n",
       "      <td>3.40</td>\n",
       "      <td>8.5</td>\n",
       "      <td>110.0</td>\n",
       "      <td>5500.0</td>\n",
       "      <td>19.0</td>\n",
       "      <td>25.0</td>\n",
       "      <td>17710.0</td>\n",
       "    </tr>\n",
       "    <tr>\n",
       "      <th>3</th>\n",
       "      <td>4.0</td>\n",
       "      <td>158.0</td>\n",
       "      <td>105.800003</td>\n",
       "      <td>192.699997</td>\n",
       "      <td>71.400002</td>\n",
       "      <td>55.900002</td>\n",
       "      <td>3086.0</td>\n",
       "      <td>131.0</td>\n",
       "      <td>3.13</td>\n",
       "      <td>3.40</td>\n",
       "      <td>8.3</td>\n",
       "      <td>140.0</td>\n",
       "      <td>5500.0</td>\n",
       "      <td>17.0</td>\n",
       "      <td>20.0</td>\n",
       "      <td>23875.0</td>\n",
       "    </tr>\n",
       "    <tr>\n",
       "      <th>4</th>\n",
       "      <td>5.0</td>\n",
       "      <td>192.0</td>\n",
       "      <td>101.199997</td>\n",
       "      <td>176.800003</td>\n",
       "      <td>64.800003</td>\n",
       "      <td>54.299999</td>\n",
       "      <td>2395.0</td>\n",
       "      <td>108.0</td>\n",
       "      <td>3.50</td>\n",
       "      <td>2.80</td>\n",
       "      <td>8.8</td>\n",
       "      <td>101.0</td>\n",
       "      <td>5800.0</td>\n",
       "      <td>23.0</td>\n",
       "      <td>29.0</td>\n",
       "      <td>16430.0</td>\n",
       "    </tr>\n",
       "    <tr>\n",
       "      <th>5</th>\n",
       "      <td>3.0</td>\n",
       "      <td>192.0</td>\n",
       "      <td>101.199997</td>\n",
       "      <td>176.800003</td>\n",
       "      <td>64.800003</td>\n",
       "      <td>54.299999</td>\n",
       "      <td>2395.0</td>\n",
       "      <td>108.0</td>\n",
       "      <td>3.50</td>\n",
       "      <td>2.80</td>\n",
       "      <td>8.8</td>\n",
       "      <td>101.0</td>\n",
       "      <td>5800.0</td>\n",
       "      <td>23.0</td>\n",
       "      <td>29.0</td>\n",
       "      <td>16925.0</td>\n",
       "    </tr>\n",
       "    <tr>\n",
       "      <th>6</th>\n",
       "      <td>3.0</td>\n",
       "      <td>188.0</td>\n",
       "      <td>101.199997</td>\n",
       "      <td>176.800003</td>\n",
       "      <td>64.800003</td>\n",
       "      <td>54.299999</td>\n",
       "      <td>2710.0</td>\n",
       "      <td>164.0</td>\n",
       "      <td>3.31</td>\n",
       "      <td>3.19</td>\n",
       "      <td>9.0</td>\n",
       "      <td>121.0</td>\n",
       "      <td>4250.0</td>\n",
       "      <td>21.0</td>\n",
       "      <td>28.0</td>\n",
       "      <td>20970.0</td>\n",
       "    </tr>\n",
       "    <tr>\n",
       "      <th>7</th>\n",
       "      <td>3.0</td>\n",
       "      <td>188.0</td>\n",
       "      <td>101.199997</td>\n",
       "      <td>176.800003</td>\n",
       "      <td>64.800003</td>\n",
       "      <td>54.299999</td>\n",
       "      <td>2765.0</td>\n",
       "      <td>164.0</td>\n",
       "      <td>3.31</td>\n",
       "      <td>3.19</td>\n",
       "      <td>9.0</td>\n",
       "      <td>121.0</td>\n",
       "      <td>4250.0</td>\n",
       "      <td>21.0</td>\n",
       "      <td>28.0</td>\n",
       "      <td>21105.0</td>\n",
       "    </tr>\n",
       "    <tr>\n",
       "      <th>8</th>\n",
       "      <td>5.0</td>\n",
       "      <td>121.0</td>\n",
       "      <td>88.400002</td>\n",
       "      <td>141.100006</td>\n",
       "      <td>60.299999</td>\n",
       "      <td>53.200001</td>\n",
       "      <td>1488.0</td>\n",
       "      <td>61.0</td>\n",
       "      <td>2.91</td>\n",
       "      <td>3.03</td>\n",
       "      <td>9.5</td>\n",
       "      <td>48.0</td>\n",
       "      <td>5100.0</td>\n",
       "      <td>47.0</td>\n",
       "      <td>53.0</td>\n",
       "      <td>5151.0</td>\n",
       "    </tr>\n",
       "    <tr>\n",
       "      <th>9</th>\n",
       "      <td>4.0</td>\n",
       "      <td>98.0</td>\n",
       "      <td>94.500000</td>\n",
       "      <td>155.899994</td>\n",
       "      <td>63.599998</td>\n",
       "      <td>52.000000</td>\n",
       "      <td>1874.0</td>\n",
       "      <td>90.0</td>\n",
       "      <td>3.03</td>\n",
       "      <td>3.11</td>\n",
       "      <td>9.6</td>\n",
       "      <td>70.0</td>\n",
       "      <td>5400.0</td>\n",
       "      <td>38.0</td>\n",
       "      <td>43.0</td>\n",
       "      <td>6295.0</td>\n",
       "    </tr>\n",
       "  </tbody>\n",
       "</table>\n",
       "</div>"
      ],
      "text/plain": [
       "   symboling  normalized-losses  wheel-base      length      width     height  \\\n",
       "0        5.0              164.0   99.800003  176.600006  66.199997  54.299999   \n",
       "1        5.0              164.0   99.400002  176.600006  66.400002  54.299999   \n",
       "2        4.0              158.0  105.800003  192.699997  71.400002  55.700001   \n",
       "3        4.0              158.0  105.800003  192.699997  71.400002  55.900002   \n",
       "4        5.0              192.0  101.199997  176.800003  64.800003  54.299999   \n",
       "5        3.0              192.0  101.199997  176.800003  64.800003  54.299999   \n",
       "6        3.0              188.0  101.199997  176.800003  64.800003  54.299999   \n",
       "7        3.0              188.0  101.199997  176.800003  64.800003  54.299999   \n",
       "8        5.0              121.0   88.400002  141.100006  60.299999  53.200001   \n",
       "9        4.0               98.0   94.500000  155.899994  63.599998  52.000000   \n",
       "\n",
       "   curb-weight  engine-size  bore  stroke  compression-ratio  horsepower  \\\n",
       "0       2337.0        109.0  3.19    3.40               10.0       102.0   \n",
       "1       2824.0        136.0  3.19    3.40                8.0       115.0   \n",
       "2       2844.0        136.0  3.19    3.40                8.5       110.0   \n",
       "3       3086.0        131.0  3.13    3.40                8.3       140.0   \n",
       "4       2395.0        108.0  3.50    2.80                8.8       101.0   \n",
       "5       2395.0        108.0  3.50    2.80                8.8       101.0   \n",
       "6       2710.0        164.0  3.31    3.19                9.0       121.0   \n",
       "7       2765.0        164.0  3.31    3.19                9.0       121.0   \n",
       "8       1488.0         61.0  2.91    3.03                9.5        48.0   \n",
       "9       1874.0         90.0  3.03    3.11                9.6        70.0   \n",
       "\n",
       "   peak-rpm  city-mpg  highway-mpg   target  \n",
       "0    5500.0      24.0         30.0  13950.0  \n",
       "1    5500.0      18.0         22.0  17450.0  \n",
       "2    5500.0      19.0         25.0  17710.0  \n",
       "3    5500.0      17.0         20.0  23875.0  \n",
       "4    5800.0      23.0         29.0  16430.0  \n",
       "5    5800.0      23.0         29.0  16925.0  \n",
       "6    4250.0      21.0         28.0  20970.0  \n",
       "7    4250.0      21.0         28.0  21105.0  \n",
       "8    5100.0      47.0         53.0   5151.0  \n",
       "9    5400.0      38.0         43.0   6295.0  "
      ]
     },
<<<<<<< HEAD
     "execution_count": 3,
=======
     "execution_count": 7,
>>>>>>> b221b9bee5101e6b7ad5139feaab1c325ac4d49b
     "metadata": {},
     "output_type": "execute_result"
    }
   ],
   "source": [
    "# Put code here\n",
<<<<<<< HEAD
=======
    "import matplotlib.pyplot as plt\n",
>>>>>>> b221b9bee5101e6b7ad5139feaab1c325ac4d49b
    "data = pd.read_csv(\"auto_price.csv\")\n",
    "data.head(10)"
   ]
  },
  {
   "cell_type": "markdown",
   "metadata": {},
   "source": [
    "&#9989; **Questions 2.2 (2 points)**: Use the Pandas `describe` function to describe the data. Once the data is described, record the max `length`, mean `width`, and standard deviation of the `curb-weight` in the cell below. "
   ]
  },
  {
   "cell_type": "code",
<<<<<<< HEAD
   "execution_count": 4,
=======
   "execution_count": 8,
>>>>>>> b221b9bee5101e6b7ad5139feaab1c325ac4d49b
   "metadata": {},
   "outputs": [
    {
     "data": {
      "text/html": [
       "<div>\n",
       "<style scoped>\n",
       "    .dataframe tbody tr th:only-of-type {\n",
       "        vertical-align: middle;\n",
       "    }\n",
       "\n",
       "    .dataframe tbody tr th {\n",
       "        vertical-align: top;\n",
       "    }\n",
       "\n",
       "    .dataframe thead th {\n",
       "        text-align: right;\n",
       "    }\n",
       "</style>\n",
       "<table border=\"1\" class=\"dataframe\">\n",
       "  <thead>\n",
       "    <tr style=\"text-align: right;\">\n",
       "      <th></th>\n",
       "      <th>symboling</th>\n",
       "      <th>normalized-losses</th>\n",
       "      <th>wheel-base</th>\n",
       "      <th>length</th>\n",
       "      <th>width</th>\n",
       "      <th>height</th>\n",
       "      <th>curb-weight</th>\n",
       "      <th>engine-size</th>\n",
       "      <th>bore</th>\n",
       "      <th>stroke</th>\n",
       "      <th>compression-ratio</th>\n",
       "      <th>horsepower</th>\n",
       "      <th>peak-rpm</th>\n",
       "      <th>city-mpg</th>\n",
       "      <th>highway-mpg</th>\n",
       "      <th>target</th>\n",
       "    </tr>\n",
       "  </thead>\n",
       "  <tbody>\n",
       "    <tr>\n",
       "      <th>count</th>\n",
       "      <td>159.000000</td>\n",
       "      <td>159.000000</td>\n",
       "      <td>159.000000</td>\n",
       "      <td>159.000000</td>\n",
       "      <td>159.000000</td>\n",
       "      <td>159.000000</td>\n",
       "      <td>159.000000</td>\n",
       "      <td>159.000000</td>\n",
       "      <td>159.000000</td>\n",
       "      <td>159.000000</td>\n",
       "      <td>159.000000</td>\n",
       "      <td>159.000000</td>\n",
       "      <td>159.000000</td>\n",
       "      <td>159.000000</td>\n",
       "      <td>159.000000</td>\n",
       "      <td>159.000000</td>\n",
       "    </tr>\n",
       "    <tr>\n",
       "      <th>mean</th>\n",
       "      <td>3.735849</td>\n",
       "      <td>121.132075</td>\n",
       "      <td>98.264151</td>\n",
       "      <td>172.413837</td>\n",
       "      <td>65.607547</td>\n",
       "      <td>53.899371</td>\n",
       "      <td>2461.138365</td>\n",
       "      <td>119.226415</td>\n",
       "      <td>3.300126</td>\n",
       "      <td>3.236352</td>\n",
       "      <td>10.161132</td>\n",
       "      <td>95.836478</td>\n",
       "      <td>5113.836478</td>\n",
       "      <td>26.522013</td>\n",
       "      <td>32.081761</td>\n",
       "      <td>11445.729560</td>\n",
       "    </tr>\n",
       "    <tr>\n",
       "      <th>std</th>\n",
       "      <td>1.193086</td>\n",
       "      <td>35.651285</td>\n",
       "      <td>5.167417</td>\n",
       "      <td>11.523177</td>\n",
       "      <td>1.947883</td>\n",
       "      <td>2.268761</td>\n",
       "      <td>481.941321</td>\n",
       "      <td>30.460791</td>\n",
       "      <td>0.267336</td>\n",
       "      <td>0.294888</td>\n",
       "      <td>3.889475</td>\n",
       "      <td>30.718583</td>\n",
       "      <td>465.754864</td>\n",
       "      <td>6.097142</td>\n",
       "      <td>6.459189</td>\n",
       "      <td>5877.856195</td>\n",
       "    </tr>\n",
       "    <tr>\n",
       "      <th>min</th>\n",
       "      <td>1.000000</td>\n",
       "      <td>65.000000</td>\n",
       "      <td>86.599998</td>\n",
       "      <td>141.100006</td>\n",
       "      <td>60.299999</td>\n",
       "      <td>49.400002</td>\n",
       "      <td>1488.000000</td>\n",
       "      <td>61.000000</td>\n",
       "      <td>2.540000</td>\n",
       "      <td>2.070000</td>\n",
       "      <td>7.000000</td>\n",
       "      <td>48.000000</td>\n",
       "      <td>4150.000000</td>\n",
       "      <td>15.000000</td>\n",
       "      <td>18.000000</td>\n",
       "      <td>5118.000000</td>\n",
       "    </tr>\n",
       "    <tr>\n",
       "      <th>25%</th>\n",
       "      <td>3.000000</td>\n",
       "      <td>94.000000</td>\n",
       "      <td>94.500000</td>\n",
       "      <td>165.650002</td>\n",
       "      <td>64.000000</td>\n",
       "      <td>52.250000</td>\n",
       "      <td>2065.500000</td>\n",
       "      <td>97.000000</td>\n",
       "      <td>3.050000</td>\n",
       "      <td>3.105000</td>\n",
       "      <td>8.700000</td>\n",
       "      <td>69.000000</td>\n",
       "      <td>4800.000000</td>\n",
       "      <td>23.000000</td>\n",
       "      <td>28.000000</td>\n",
       "      <td>7372.000000</td>\n",
       "    </tr>\n",
       "    <tr>\n",
       "      <th>50%</th>\n",
       "      <td>4.000000</td>\n",
       "      <td>113.000000</td>\n",
       "      <td>96.900002</td>\n",
       "      <td>172.399994</td>\n",
       "      <td>65.400002</td>\n",
       "      <td>54.099998</td>\n",
       "      <td>2340.000000</td>\n",
       "      <td>110.000000</td>\n",
       "      <td>3.270000</td>\n",
       "      <td>3.270000</td>\n",
       "      <td>9.000000</td>\n",
       "      <td>88.000000</td>\n",
       "      <td>5200.000000</td>\n",
       "      <td>26.000000</td>\n",
       "      <td>32.000000</td>\n",
       "      <td>9233.000000</td>\n",
       "    </tr>\n",
       "    <tr>\n",
       "      <th>75%</th>\n",
       "      <td>5.000000</td>\n",
       "      <td>148.000000</td>\n",
       "      <td>100.799999</td>\n",
       "      <td>177.800003</td>\n",
       "      <td>66.500000</td>\n",
       "      <td>55.500000</td>\n",
       "      <td>2809.500000</td>\n",
       "      <td>135.000000</td>\n",
       "      <td>3.560000</td>\n",
       "      <td>3.410000</td>\n",
       "      <td>9.400000</td>\n",
       "      <td>114.000000</td>\n",
       "      <td>5500.000000</td>\n",
       "      <td>31.000000</td>\n",
       "      <td>37.000000</td>\n",
       "      <td>14719.500000</td>\n",
       "    </tr>\n",
       "    <tr>\n",
       "      <th>max</th>\n",
       "      <td>6.000000</td>\n",
       "      <td>256.000000</td>\n",
       "      <td>115.599998</td>\n",
       "      <td>202.600006</td>\n",
       "      <td>71.699997</td>\n",
       "      <td>59.799999</td>\n",
       "      <td>4066.000000</td>\n",
       "      <td>258.000000</td>\n",
       "      <td>3.940000</td>\n",
       "      <td>4.170000</td>\n",
       "      <td>23.000000</td>\n",
       "      <td>200.000000</td>\n",
       "      <td>6600.000000</td>\n",
       "      <td>49.000000</td>\n",
       "      <td>54.000000</td>\n",
       "      <td>35056.000000</td>\n",
       "    </tr>\n",
       "  </tbody>\n",
       "</table>\n",
       "</div>"
      ],
      "text/plain": [
       "        symboling  normalized-losses  wheel-base      length       width  \\\n",
       "count  159.000000         159.000000  159.000000  159.000000  159.000000   \n",
       "mean     3.735849         121.132075   98.264151  172.413837   65.607547   \n",
       "std      1.193086          35.651285    5.167417   11.523177    1.947883   \n",
       "min      1.000000          65.000000   86.599998  141.100006   60.299999   \n",
       "25%      3.000000          94.000000   94.500000  165.650002   64.000000   \n",
       "50%      4.000000         113.000000   96.900002  172.399994   65.400002   \n",
       "75%      5.000000         148.000000  100.799999  177.800003   66.500000   \n",
       "max      6.000000         256.000000  115.599998  202.600006   71.699997   \n",
       "\n",
       "           height  curb-weight  engine-size        bore      stroke  \\\n",
       "count  159.000000   159.000000   159.000000  159.000000  159.000000   \n",
       "mean    53.899371  2461.138365   119.226415    3.300126    3.236352   \n",
       "std      2.268761   481.941321    30.460791    0.267336    0.294888   \n",
       "min     49.400002  1488.000000    61.000000    2.540000    2.070000   \n",
       "25%     52.250000  2065.500000    97.000000    3.050000    3.105000   \n",
       "50%     54.099998  2340.000000   110.000000    3.270000    3.270000   \n",
       "75%     55.500000  2809.500000   135.000000    3.560000    3.410000   \n",
       "max     59.799999  4066.000000   258.000000    3.940000    4.170000   \n",
       "\n",
       "       compression-ratio  horsepower     peak-rpm    city-mpg  highway-mpg  \\\n",
       "count         159.000000  159.000000   159.000000  159.000000   159.000000   \n",
       "mean           10.161132   95.836478  5113.836478   26.522013    32.081761   \n",
       "std             3.889475   30.718583   465.754864    6.097142     6.459189   \n",
       "min             7.000000   48.000000  4150.000000   15.000000    18.000000   \n",
       "25%             8.700000   69.000000  4800.000000   23.000000    28.000000   \n",
       "50%             9.000000   88.000000  5200.000000   26.000000    32.000000   \n",
       "75%             9.400000  114.000000  5500.000000   31.000000    37.000000   \n",
       "max            23.000000  200.000000  6600.000000   49.000000    54.000000   \n",
       "\n",
       "             target  \n",
       "count    159.000000  \n",
       "mean   11445.729560  \n",
       "std     5877.856195  \n",
       "min     5118.000000  \n",
       "25%     7372.000000  \n",
       "50%     9233.000000  \n",
       "75%    14719.500000  \n",
       "max    35056.000000  "
      ]
     },
<<<<<<< HEAD
     "execution_count": 4,
=======
     "execution_count": 8,
>>>>>>> b221b9bee5101e6b7ad5139feaab1c325ac4d49b
     "metadata": {},
     "output_type": "execute_result"
    }
   ],
   "source": [
    "# Put code here\n",
    "data.describe()"
   ]
  },
  {
   "cell_type": "markdown",
   "metadata": {},
   "source": [
    "**Record your observations here**\n",
    "\n",
    "`max length`=     202.600006\n",
    "\n",
    "`mean width`=     71.699997\n",
    "\n",
    "`standard deviation curb-weight`=481.941321\t"
   ]
  },
  {
   "cell_type": "markdown",
   "metadata": {},
   "source": []
  },
  {
   "cell_type": "markdown",
   "metadata": {},
   "source": [
    "&#9989; **Questions 2.3 (2 points)**: Now create a new DataFrame using just the `length` and `horsepower` columns of your current DataFrame. Call this DataFrame `new_df`. Confirm that the new DataFrame contains just those two columns by displaying the first 4 rows. "
   ]
  },
  {
   "cell_type": "code",
<<<<<<< HEAD
   "execution_count": 5,
=======
   "execution_count": 9,
>>>>>>> b221b9bee5101e6b7ad5139feaab1c325ac4d49b
   "metadata": {},
   "outputs": [
    {
     "data": {
      "text/html": [
       "<div>\n",
       "<style scoped>\n",
       "    .dataframe tbody tr th:only-of-type {\n",
       "        vertical-align: middle;\n",
       "    }\n",
       "\n",
       "    .dataframe tbody tr th {\n",
       "        vertical-align: top;\n",
       "    }\n",
       "\n",
       "    .dataframe thead th {\n",
       "        text-align: right;\n",
       "    }\n",
       "</style>\n",
       "<table border=\"1\" class=\"dataframe\">\n",
       "  <thead>\n",
       "    <tr style=\"text-align: right;\">\n",
       "      <th></th>\n",
       "      <th>length</th>\n",
       "      <th>horsepower</th>\n",
       "    </tr>\n",
       "  </thead>\n",
       "  <tbody>\n",
       "    <tr>\n",
       "      <th>0</th>\n",
       "      <td>176.600006</td>\n",
       "      <td>102.0</td>\n",
       "    </tr>\n",
       "    <tr>\n",
       "      <th>1</th>\n",
       "      <td>176.600006</td>\n",
       "      <td>115.0</td>\n",
       "    </tr>\n",
       "    <tr>\n",
       "      <th>2</th>\n",
       "      <td>192.699997</td>\n",
       "      <td>110.0</td>\n",
       "    </tr>\n",
       "    <tr>\n",
       "      <th>3</th>\n",
       "      <td>192.699997</td>\n",
       "      <td>140.0</td>\n",
       "    </tr>\n",
       "  </tbody>\n",
       "</table>\n",
       "</div>"
      ],
      "text/plain": [
       "       length  horsepower\n",
       "0  176.600006       102.0\n",
       "1  176.600006       115.0\n",
       "2  192.699997       110.0\n",
       "3  192.699997       140.0"
      ]
     },
<<<<<<< HEAD
     "execution_count": 5,
=======
     "execution_count": 9,
>>>>>>> b221b9bee5101e6b7ad5139feaab1c325ac4d49b
     "metadata": {},
     "output_type": "execute_result"
    }
   ],
   "source": [
    "# Put code here\n",
<<<<<<< HEAD
=======
    "# Put code here\n",
>>>>>>> b221b9bee5101e6b7ad5139feaab1c325ac4d49b
    "new_df = data[['length', 'horsepower']]\n",
    "new_df.head(4)"
   ]
  },
  {
   "cell_type": "markdown",
   "metadata": {},
   "source": [
    "&#9989; **Questions 2.4 (2 points)**: Using the DataFrame created in the previous question. Create a `scatter` plot showing `length` vs `horsepower` with `length` as the x-axis and `horsepower` as the y-axis. ***Hint*** Look up the documentation for Pandas plot function."
   ]
  },
  {
   "cell_type": "code",
<<<<<<< HEAD
   "execution_count": 6,
=======
   "execution_count": 10,
>>>>>>> b221b9bee5101e6b7ad5139feaab1c325ac4d49b
   "metadata": {},
   "outputs": [
    {
     "data": {
<<<<<<< HEAD
      "image/png": "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",
=======
      "image/png": "iVBORw0KGgoAAAANSUhEUgAAAjsAAAHHCAYAAABZbpmkAAAAOXRFWHRTb2Z0d2FyZQBNYXRwbG90bGliIHZlcnNpb24zLjkuMiwgaHR0cHM6Ly9tYXRwbG90bGliLm9yZy8hTgPZAAAACXBIWXMAAA9hAAAPYQGoP6dpAABcwElEQVR4nO3deVzU1f4/8NewKiDDDiKLKLhgLrgh4pLJdclc0ky5llimtwLN9aZ1NfNWLmWpZPqtTLPFym4aN8udRRFNRW65hCCbG/smEAjM+f3hj4lhGYZhhhmG1/PxmEfNOZ858/58ZnTens9ZJEIIASIiIiIDZaTrAIiIiIi0ickOERERGTQmO0RERGTQmOwQERGRQWOyQ0RERAaNyQ4REREZNCY7REREZNCY7BAREZFBY7JDREREBo3JDhE1y6OPPopHHnlE12EQEamMyQ6RDuzduxcSiQQXL17UdSgNunv3LtatW4eEhARdh9JsEokEYWFhDdbp+3UnIu1gskNE9dy9exdvvvlmm0x2iIjqYrJDRKSm0tJSXYegl6qqqvDgwQNdh0Ekx2SHSI/duXMHzz//PJydnWFubo4+ffrgs88+UzgmKioKEokE3333Hd5++224ubmhQ4cOGDt2LJKTk+u1uWPHDnTr1g0dO3bE0KFDcfr0aTz66KN49NFH5e0NGTIEAPDcc89BIpFAIpFg7969Cu1cu3YNY8aMgYWFBbp06YLNmzc3eT6PPPIIxowZU69cJpOhS5cueOqpp+Rl33zzDQYNGoROnTrB2toaffv2xbZt25p8D3WcOnUKI0eOhKWlJWxsbDB16lRcv35d4Zh169ZBIpHg2rVr+Pvf/w5bW1uMGDECAJCZmYnnnnsObm5uMDc3R+fOnTF16lSkpaUptPHLL7/I36dTp06YNGkSrl69qnDMvHnzYGVlhZSUFIwfPx6WlpZwdXXF+vXrIYRQOLa0tBTLly+Hu7s7zM3N0bNnT7z33nsKx02fPh0DBw5UeN3kyZMhkUgQEREhLzt//jwkEgl++eUXeVlhYSGWLFkib9/b2xubNm2CTCaTH5OWlgaJRIL33nsPW7duRffu3WFubo5r16414xMg0i4TXQdARA3LysrCsGHD5GNQHB0d8csvv2D+/PkoLi7GkiVLFI7fuHEjjIyMsGLFChQVFWHz5s2YM2cOzp8/Lz9m586dCAsLw8iRI7F06VKkpaVh2rRpsLW1hZubGwCgd+/eWL9+PdauXYuFCxdi5MiRAIDhw4fL2ykoKMCECRMwffp0PP300/j+++/x6quvom/fvpg4cWKj5zRr1iysW7cOmZmZcHFxkZefOXMGd+/exezZswEAx48fR3BwMMaOHYtNmzYBAK5fv47Y2Fi88sorTV678vJy5Obm1isvKSmpV3bixAlMnDgR3bp1w7p16/Dnn38iPDwcgYGBiI+PR9euXRWOnzlzJnx8fPDOO+/Ik4oZM2bg6tWrWLRoEbp27Yrs7GwcP34cGRkZ8td/8cUXCAkJwfjx47Fp0yaUlZVh586dGDFiBC5fvqzwPtXV1ZgwYQKGDRuGzZs348iRI3jjjTdQVVWF9evXAwCEEJgyZQoiIyMxf/58DBgwAEePHsXKlStx584dfPDBBwCAkSNH4scff0RxcTGsra0hhEBsbCyMjIxw+vRpTJkyBQBw+vRpGBkZITAwEABQVlaG0aNH486dO/jHP/4BDw8PnD17FqtXr8a9e/ewdetWheuyZ88elJeXY+HChTA3N4ednV2TnxNRqxFE1Or27NkjAIgLFy40esz8+fNF586dRW5urkL57NmzhVQqFWVlZUIIISIjIwUA0bt3b1FRUSE/btu2bQKA+P3334UQQlRUVAh7e3sxZMgQUVlZKT9u7969AoAYPXq0vOzChQsCgNizZ0+9uEaPHi0AiH379snLKioqhIuLi5gxY4bS805MTBQARHh4uEL5yy+/LKysrOTn9Morrwhra2tRVVWltL2GAGjyUfu6DxgwQDg5OYm8vDx52f/+9z9hZGQk5s6dKy974403BAARHBys8H4FBQUCgHj33Xcbjen+/fvCxsZGLFiwQKE8MzNTSKVShfKQkBABQCxatEheJpPJxKRJk4SZmZnIyckRQghx6NAhAUC89dZbCm0+9dRTQiKRiOTkZCHEX5/lzz//LIQQ4rfffhMAxMyZM4W/v7/8dVOmTBF+fn7y5//+97+FpaWluHHjhkL7q1atEsbGxiIjI0MIIURqaqoAIKytrUV2dnaj14BIl3gbi0gPCSHwn//8B5MnT4YQArm5ufLH+PHjUVRUhPj4eIXXPPfcczAzM5M/r+mRSUlJAQBcvHgReXl5WLBgAUxM/urUnTNnDmxtbZsVn5WVFZ555hn5czMzMwwdOlT+Xo3p0aMHBgwYgG+//VZeVl1dje+//x6TJ09Gx44dAQA2NjYoLS3F8ePHmxVXjalTp+L48eP1HitXrlQ47t69e0hISMC8efMUeiL69euHv/3tb/j555/rtf3iiy8qPO/YsSPMzMwQFRWFgoKCBuM5fvw4CgsLERwcrPBZGhsbw9/fH5GRkfVeU3tGWU3v3oMHD3DixAkAwM8//wxjY2MsXrxY4XXLly+HEEJ+O8rPzw9WVlaIiYkB8LAHx83NDXPnzkV8fDzKysoghMCZM2fk3xkAOHDgAEaOHAlbW1uFmIOCglBdXS1vr8aMGTPg6OjY4PkT6RpvYxHpoZycHBQWFuLjjz/Gxx9/3OAx2dnZCs89PDwUntckMDU/wOnp6QAAb29vheNMTEzq3appipubGyQSSb33++2335p87axZs/Daa6/hzp076NKlC6KiopCdnY1Zs2bJj3n55Zfx3XffYeLEiejSpQvGjRuHp59+GhMmTFA5vqCgoHrlt2/fVnhec0169uxZ79jevXvj6NGjKC0thaWlpbzcy8tL4Thzc3Ns2rQJy5cvh7OzM4YNG4YnnngCc+fOld+qS0pKAgA89thjDcZrbW2t8NzIyAjdunVTKOvRowcAyMcBpaenw9XVFZ06daoXd+1zMzY2RkBAAE6fPg3gYbIzcuRIjBgxAtXV1Th37hycnZ2Rn5+vkOwkJSXht99+azSBqfv9q3tdiPQJkx0iPVQzAPSZZ55BSEhIg8f069dP4bmxsXGDx4k6g1o1oSXvNWvWLKxevRoHDhzAkiVL8N1330EqlSokMk5OTkhISMDRo0fxyy+/4JdffsGePXswd+5cfP755xo7D3XU9D7VtmTJEkyePBmHDh3C0aNHsWbNGmzYsAGnTp2Cn5+f/PP84osvFMYq1ajd06YNI0aMwNtvv43y8nKcPn0ar7/+OmxsbPDII4/g9OnTcHZ2BgCFZEcmk+Fvf/sb/vnPfzbYZk3yVaOh60KkL5jsEOkhR0dHdOrUCdXV1Q32UKjD09MTAJCcnKwwI6qqqgppaWkKyVPdXhtN8vLywtChQ/Htt98iLCwMP/zwA6ZNmwZzc3OF48zMzDB58mRMnjwZMpkML7/8Mv7v//4Pa9asqdc7pa6aa5KYmFiv7o8//oCDg4NCr44y3bt3x/Lly7F8+XIkJSVhwIAB2LJlC7788kt0794dwMMkTpXPUyaTISUlRSGhuHHjBgDIe+E8PT1x4sQJ3L9/X6F3548//lA4N+BhEvPgwQPs378fd+7ckSc1o0aNkic7PXr0kCc9NedTUlKise8fkS5xzA6RHjI2NsaMGTPwn//8B1euXKlXn5OT0+w2Bw8eDHt7e3zyySeoqqqSl3/11Vf1xprU/MAXFhY2+31UMWvWLJw7dw6fffYZcnNzFW5hAUBeXp7CcyMjI3kyVlFRobE4OnfujAEDBuDzzz9XONcrV67g2LFjePzxx5tso6ysDOXl5Qpl3bt3R6dOneSxjh8/HtbW1njnnXdQWVlZr42GPs8PP/xQ/v9CCHz44YcwNTXF2LFjAQCPP/44qqurFY4DgA8++AASiURhVpy/vz9MTU2xadMm2NnZoU+fPgAeJkHnzp1DdHS0Qq8OADz99NOIi4vD0aNH68VWWFio8B0i0nfs2SHSoc8++wxHjhypV/7KK69g48aNiIyMhL+/PxYsWABfX1/k5+cjPj4eJ06cQH5+frPey8zMDOvWrcOiRYvw2GOP4emnn0ZaWhr27t2L7t27K/TmdO/eHTY2Nti1axc6deoES0tL+Pv7a2xcxtNPP40VK1ZgxYoVsLOzq9d78MILLyA/Px+PPfYY3NzckJ6ejvDwcAwYMEA+JkVT3n33XUycOBEBAQGYP3++fOq5VCrFunXrmnz9jRs3MHbsWDz99NPw9fWFiYkJDh48iKysLPlUemtra+zcuRPPPvssBg4ciNmzZ8PR0REZGRk4fPgwAgMDFZKWDh064MiRIwgJCYG/vz9++eUXHD58GK+99pp8DM3kyZMxZswYvP7660hLS0P//v1x7Ngx/Pjjj1iyZIm8NwkALCwsMGjQIJw7d06+xg7wsGentLQUpaWl9ZKdlStXIiIiAk888QTmzZuHQYMGobS0FL///ju+//57pKWlwcHBoaWXn6h16HAmGFG7VTP1vLHHrVu3hBBCZGVlidDQUOHu7i5MTU2Fi4uLGDt2rPj444/lbdVMPT9w4IDCe9RMCa47fXz79u3C09NTmJubi6FDh4rY2FgxaNAgMWHCBIXjfvzxR+Hr6ytMTEwU2hk9erTo06dPvXMKCQkRnp6eKl+DwMBAAUC88MIL9eq+//57MW7cOOHk5CTMzMyEh4eH+Mc//iHu3bvXZLsARGhoaIN1jU35P3HihAgMDBQdO3YU1tbWYvLkyeLatWsKx9RMPa+Z+l0jNzdXhIaGil69eglLS0shlUqFv7+/+O677+q9f2RkpBg/fryQSqWiQ4cOonv37mLevHni4sWL8mNCQkKEpaWluHnzphg3bpywsLAQzs7O4o033hDV1dUK7d2/f18sXbpUuLq6ClNTU+Hj4yPeffddIZPJ6r33ypUrBQCxadMmhXJvb28BQNy8ebPea+7fvy9Wr14tvL29hZmZmXBwcBDDhw8X7733nnjw4IEQ4q/vmbKp90S6JhFCC6MXiajNkMlkcHR0xPTp0/HJJ5/oOpx2b968efj+++8bXACRiNTDMTtE7Uh5eXm9GVP79u1Dfn6+fLsIIiJDwzE7RO3IuXPnsHTpUsycORP29vaIj4/H7t278cgjj2DmzJm6Do+ISCuY7BC1I127doW7uzu2b9+O/Px82NnZYe7cudi4caPC6stERIaEY3aIiIjIoHHMDhERERk0JjtERERk0DhmBw+n3t69exedOnXS6jL5REREpDlCCNy/fx+urq4wMmq8/4bJDoC7d+/C3d1d12EQERGRGm7dugU3N7dG65nsAPJN9G7dugVra2sdR0NERESqKC4uhru7u8JmuA1hsoO/dni2trZmskNERNTGNDUEhQOUiYiIyKAx2SEiIiKDxmSHiIiIDBqTHSIiIjJoTHaIiIjIoDHZISIiIoPGZIeIiIgMGpMdIiIiMmhMdoiIiMigMdkhIiIig6bTZGfDhg0YMmQIOnXqBCcnJ0ybNg2JiYkKx5SXlyM0NBT29vawsrLCjBkzkJWVpXBMRkYGJk2aBAsLCzg5OWHlypWoqqpqzVMhIh1IySlBZGI2UnNLdR0KEekxne6NFR0djdDQUAwZMgRVVVV47bXXMG7cOFy7dg2WlpYAgKVLl+Lw4cM4cOAApFIpwsLCMH36dMTGxgIAqqurMWnSJLi4uODs2bO4d+8e5s6dC1NTU7zzzju6PD0i0pLCsgdYvD8BMUk58rJRPo4ID/aD1MJUh5ERkT6SCCGEroOokZOTAycnJ0RHR2PUqFEoKiqCo6Mjvv76azz11FMAgD/++AO9e/dGXFwchg0bhl9++QVPPPEE7t69C2dnZwDArl278OqrryInJwdmZmZNvm9xcTGkUimKioq4EShRGzB396+ITc5Fda2/vowlEgR6O2Df/KE6jIyIWpOqv996NWanqKgIAGBnZwcAuHTpEiorKxEUFCQ/plevXvDw8EBcXBwAIC4uDn379pUnOgAwfvx4FBcX4+rVqw2+T0VFBYqLixUeRNQ2pOSUICYpRyHRAYBqIRCTlMNbWkRUj94kOzKZDEuWLEFgYCAeeeQRAEBmZibMzMxgY2OjcKyzszMyMzPlx9ROdGrqa+oasmHDBkilUvnD3d1dw2dDRNqSnl+mtD4tj8kOESnSm2QnNDQUV65cwTfffKP191q9ejWKiorkj1u3bmn9PYlIMzztLJTWd7W3bKVIiKit0ItkJywsDD/99BMiIyPh5uYmL3dxccGDBw9QWFiocHxWVhZcXFzkx9SdnVXzvOaYuszNzWFtba3wIKK2oZujFUb5OMJYIlEoN5ZIMMrHEV4OTHaISJFOkx0hBMLCwnDw4EGcOnUKXl5eCvWDBg2CqakpTp48KS9LTExERkYGAgICAAABAQH4/fffkZ2dLT/m+PHjsLa2hq+vb+ucCBG1qvBgPwR6OyiUBXo7IDzYT0cREZE+0+lsrJdffhlff/01fvzxR/Ts2VNeLpVK0bFjRwDASy+9hJ9//hl79+6FtbU1Fi1aBAA4e/YsgIdTzwcMGABXV1ds3rwZmZmZePbZZ/HCCy+oPPWcs7GI2qbU3FKk5ZWiq70le3SI2iFVf791muxI6nRD19izZw/mzZsH4OGigsuXL8f+/ftRUVGB8ePH46OPPlK4RZWeno6XXnoJUVFRsLS0REhICDZu3AgTE9WWEWKyQ0RE1Pa0iWRHXzDZISIianva5Do7RERERJrGZIeIiIgMGpMdIiIiMmhMdoiIiMigMdkhIiIig8Zkh4iIiAwakx0iIiIyaEx2iIiIyKAx2SEiIiKDxmSHiIiIDBqTHSIiIjJoTHaIiIjIoDHZISIiIoPGZIeIiIgMGpMdIiIiMmhMdoiIiMigMdkhIiIig8Zkh4iIiAwakx0iIiIyaEx2iIiIyKAx2SEiIiKDxmSHiIiIDBqTHSIiIjJoTHaIiIjIoDHZISIiIoPGZIeIiIgMGpMdIiIiMmhMdoiIiMigMdkhIiIig8Zkh4iIiAwakx0iIiIyaEx2iIiIyKAx2SEiIiKDptNkJyYmBpMnT4arqyskEgkOHTqkUF9SUoKwsDC4ubmhY8eO8PX1xa5duxSOKS8vR2hoKOzt7WFlZYUZM2YgKyurFc+CiIiI9JlOk53S0lL0798fO3bsaLB+2bJlOHLkCL788ktcv34dS5YsQVhYGCIiIuTHLF26FP/9739x4MABREdH4+7du5g+fXprnQIRERHpOYkQQug6CACQSCQ4ePAgpk2bJi975JFHMGvWLKxZs0ZeNmjQIEycOBFvvfUWioqK4OjoiK+//hpPPfUUAOCPP/5A7969ERcXh2HDhqn03sXFxZBKpSgqKoK1tbVGz4uIiIi0Q9Xfb70eszN8+HBERETgzp07EEIgMjISN27cwLhx4wAAly5dQmVlJYKCguSv6dWrFzw8PBAXF9douxUVFSguLlZ4EBERkWHS62QnPDwcvr6+cHNzg5mZGSZMmIAdO3Zg1KhRAIDMzEyYmZnBxsZG4XXOzs7IzMxstN0NGzZAKpXKH+7u7to8DSIiItIhvU92zp07h4iICFy6dAlbtmxBaGgoTpw40aJ2V69ejaKiIvnj1q1bGoqYiIiI9I2JrgNozJ9//onXXnsNBw8exKRJkwAA/fr1Q0JCAt577z0EBQXBxcUFDx48QGFhoULvTlZWFlxcXBpt29zcHObm5to+BSIiItIDetuzU1lZicrKShgZKYZobGwMmUwG4OFgZVNTU5w8eVJen5iYiIyMDAQEBLRqvERERKSfdNqzU1JSguTkZPnz1NRUJCQkwM7ODh4eHhg9ejRWrlyJjh07wtPTE9HR0di3bx/ef/99AIBUKsX8+fOxbNky2NnZwdraGosWLUJAQIDKM7GIiIjIsOl06nlUVBTGjBlTrzwkJAR79+5FZmYmVq9ejWPHjiE/Px+enp5YuHAhli5dColEAuDhooLLly/H/v37UVFRgfHjx+Ojjz5SehurLk49JyKi9i4lpwTp+WXoam8JLwdLXYejElV/v/VmnR1dYrJDRETtVWHZAyzen4CYpBx52SgfR4QH+0FqYarDyJpmEOvsEBERkXYt3p+A2ORchbLY5Fws2n9ZRxFpHpMdIiKidiolpwQxSTmornOTp1oIxCTlIDW3VEeRaRaTHSIionYqPb9MaX1aHpMdIiIiasM87SyU1ne1bxsDlZvCZIeIiKid6uZohVE+jjD+/zOcaxhLJBjl49hmZmU1hckOERFROxYe7IdAbweFskBvB4QH++koIs3T2+0iiIiISPukFqbYN38oUnNLkZZX2qbW2VEVkx0iIiKCl4PhJTk1eBuLiIiIDBqTHSIiIjJoTHaIiIjIoDHZISIiIoPGZIeIiIgMGpMdIiIiMmhMdoiIiMigMdkhIiIig8Zkh4iIiAwakx0iIiIyaEx2iIiIyKAx2SEiIiKDxmSHiIiIDBqTHSIiIjJoTHaIiIjIoDHZISIiIoPGZIeIiIgMGpMdIiIiMmhMdoiIiMigMdkhIiIig8Zkh4iIiAyaia4DICIi0pToxGwk3C7EQA9bjPRx1HU4pCeY7BARUZuXnleKaTtiUVBWKS+ztTBFROgIuNtb6DAy0ge8jUVERM0SnZiNbSdv4HRSjq5Dkaub6ABAQVklpuw4o6OISJ+wZ4eIiFSir70n0YnZ9RKdGgVllTidlMNbWu2cTnt2YmJiMHnyZLi6ukIikeDQoUP1jrl+/TqmTJkCqVQKS0tLDBkyBBkZGfL68vJyhIaGwt7eHlZWVpgxYwaysrJa8SyISFdSckoQmZiN1NxSXYeiVfpynq3Re6JOr1HC7UKl9fEZBS2Mito6nfbslJaWon///nj++ecxffr0evU3b97EiBEjMH/+fLz55puwtrbG1atX0aFDB/kxS5cuxeHDh3HgwAFIpVKEhYVh+vTpiI2Nbc1TIaJWVFj2AIv3JyCm1g/iKB9HhAf7QWphqsPINEufzlPbvSct6TUa4GajtH6gh63acZFhkAghhK6DAACJRIKDBw9i2rRp8rLZs2fD1NQUX3zxRYOvKSoqgqOjI77++ms89dRTAIA//vgDvXv3RlxcHIYNG6bSexcXF0MqlaKoqAjW1tYtPhci0q65u39FbHIuqmv99WUskSDQ2wH75g/VYWSapU/nue3kDXxwPKnR+qV/88ErY3uo3b7f+mMNJlO2Fqa4vHZck6/3fu1nVMnq/5yZGEmQ/M7jasdF+k3V32+9HaAsk8lw+PBh9OjRA+PHj4eTkxP8/f0VbnVdunQJlZWVCAoKkpf16tULHh4eiIuLa7TtiooKFBcXKzyIqG1IySlBTFKOQgIAANVCICYpR+e3ejRF385Tm70nqvQaKZOSU9JgogMAVTJhMN8JUp/eJjvZ2dkoKSnBxo0bMWHCBBw7dgxPPvkkpk+fjujoaABAZmYmzMzMYGNjo/BaZ2dnZGZmNtr2hg0bIJVK5Q93d3dtngoRaVB6fpnS+rQ8w/hh07fzHN3TCbaN3DqztTBt0S2slo650bdrRfpHb5MdmUwGAJg6dSqWLl2KAQMGYNWqVXjiiSewa9euFrW9evVqFBUVyR+3bt3SRMhE1Ao87ZSP3+hqb9lKkWiXPp5nROiIeglPzbialmhpr5E+XivSL3o79dzBwQEmJibw9fVVKO/duzfOnHk48t/FxQUPHjxAYWGhQu9OVlYWXFxcGm3b3Nwc5ubmWombiLSrm6MVRvk4NjqWxcvBMH7Y9PE83e0tcHntOJxOykF8RoHGVimu6TVqbMxOU++hj9eK9Ive9uyYmZlhyJAhSExMVCi/ceMGPD09AQCDBg2CqakpTp48Ka9PTExERkYGAgICWjVeImo94cF+CPR2UCgL9HZAeLCfjiLSDn09z5E+jnhlbA+Nrl3T0l4jfb1WpB90OhurpKQEycnJAAA/Pz+8//77GDNmDOzs7ODh4YGDBw9i1qxZ2LFjB8aMGYMjR45gyZIliIqKwogRD/8AvPTSS/j555+xd+9eWFtbY9GiRQCAs2fPqhwHZ2MRtU2puaVIyytFV3tLg/7Xe3s5TwAt7jVqT9eKVP/91mmyExUVhTFjxtQrDwkJwd69ewEAn332GTZs2IDbt2+jZ8+eePPNNzF16lT5seXl5Vi+fDn279+PiooKjB8/Hh999JHS21h1MdkhImo7UnJKkJ5fxoSG2kayoy+Y7BAR6T99WmSR9EObX2eHiIjUpy9bTGjS4v0JiE3OVSiLTc7Fov2XdRQRtRV6OxuLiIiaz1B7P2oWWayr9iKLvKVFjWHPDhGRATHU3g8uHEgtwWSHiMhA6NsWE5rEhQOpJZjsEBEZCEPu/ahZONBYIlEoN5ZIMMrHkbewSCkmO0REBsLQez+4cCCpiwOUiYgMhKFvmyC1MMW++UO5cCA1G3t2iIgMSHN7P7QxRT06MRvbTt7A6QZmT2mCl4MlxvR0YqJDKmPPDhGRAVG190MbU9TT80oxbUeswoaeNftbudsrv8VGpE3s2SEiMkBN9X5oY4p63UQHAArKKjFlxxm12yTSBCY7RETtjDamqEcnZtdLdGoUlFVq7ZYWkSqY7BARtTPamKKecLtQaX18RkGz2yTSFCY7RETtjDamqA9ws1FaP9DDttltEmkKkx0ionZGGwv0je7pBNtGBjbbWphipI+jWrESaQKTHSKidkgbC/RFhI6ol/DUzMYi0iWJEHVGqLVDxcXFkEqlKCoqgrW1ta7DISJqNdpYoO90Ug7iMwow0MOWPTqkVar+fjPZAZMdIiKitkjV32/exiIiIiKDxmSHiIiIDBqTHSIiIjJoTHaIiIjIoDHZISIiIoPGZIeIiIgMmomuAyAi0gcpOSVIzy/T6HozRKQfmOwQUbtWWPYAi/cnIKbWrtyjfBwRHuwHaSPbHxBR28LbWETUri3en4DY5FyFstjkXCzaf1lHERGRpjHZIaJ2KyWnBDFJOaius5B8tRCIScpBam6pjiIjIk1iskNEeiElpwSRidmtmmCk55cprU/LY7JDZAg4ZoeIdEqXY2Y87SyU1ne150BlIkPAnh0i0ildjpnp5miFUT6OMJZIFMqNJRKM8nHkrCwd0UUvHxk29uwQkc7UjJmpq/aYGW0nHOHBfli0/7JCHIHeDggP9tPq+1J9nBlH2sJkh4h0RpUxM9pOdqQWptg3fyhSc0uRllfKdXZ0SFkv3775Q3UUFRkCJjtEpDP6NGbGy4FJji7pQy8fGS6djtmJiYnB5MmT4erqColEgkOHDjV67IsvvgiJRIKtW7cqlOfn52POnDmwtraGjY0N5s+fj5KSEu0GTkQawTEzVIMz40ibdJrslJaWon///tixY4fS4w4ePIhz587B1dW1Xt2cOXNw9epVHD9+HD/99BNiYmKwcOFCbYVMRBoWHuyHQG8HhTKOmWl/9KmXr7k4oFr/Nfs2VmVlJf7xj39gzZo18PLyatGbT5w4ERMnTlR6zJ07d7Bo0SIcPXoUkyZNUqi7fv06jhw5ggsXLmDw4MEAgPDwcDz++ON47733GkyOiEi/cMwMAX/18sUm5yos8mgskSDQ20EvvxMcUN12NLtnx9TUFP/5z3+0EUs9MpkMzz77LFauXIk+ffrUq4+Li4ONjY080QGAoKAgGBkZ4fz5860SIxFphpeDJcb0dNLLHzVqHW2tl49bjbQdag1QnjZtGg4dOoSlS5dqOh4FmzZtgomJCRYvXtxgfWZmJpycnBTKTExMYGdnh8zMzEbbraioQEVFhfx5cXGxZgImIiK1taVePg6oblvUSnZ8fHywfv16xMbGYtCgQbC0VPxAG0tOmuPSpUvYtm0b4uPjIakzeLGlNmzYgDfffFOjbRIRkWa0hZlx+rBsAqlOrWRn9+7dsLGxwaVLl3Dp0iWFOolEopFk5/Tp08jOzoaHh4e8rLq6GsuXL8fWrVuRlpYGFxcXZGdnK7yuqqoK+fn5cHFxabTt1atXY9myZfLnxcXFcHd3b3HMRETUPrTlAdXtkVrJTmpqqqbjqOfZZ59FUFCQQtn48ePx7LPP4rnnngMABAQEoLCwEJcuXcKgQYMAAKdOnYJMJoO/v3+jbZubm8Pc3Fx7wRMRkUFriwOq27MWLSr44MEDpKamonv37jAxaX5TJSUlSE5Olj9PTU1FQkIC7Ozs4OHhAXt7e4XjTU1N4eLigp49ewIAevfujQkTJmDBggXYtWsXKisrERYWhtmzZ3MmFhERaRW3Gmk71Ep2ysrKsGjRInz++ecAgBs3bqBbt25YtGgRunTpglWrVqnUzsWLFzFmzBj585pbSyEhIdi7d69KbXz11VcICwvD2LFjYWRkhBkzZmD79u3NOyEiIqJmaksDqts7iRC1+t9U9MorryA2NhZbt27FhAkT8Ntvv6Fbt2748ccfsW7dOly+3Lam3RUXF0MqlaKoqAjW1ta6DoeIiIhUoOrvt1o9O4cOHcK3336LYcOGKcyU6tOnD27evKlOk0RERERaodZ2ETk5OfXWtwEebv+g6WniRERERC2hVrIzePBgHD58WP68JsH59NNPERAQoJnIiIiIiDRArdtY77zzDiZOnIhr166hqqoK27Ztw7Vr13D27FlER0drOkYiIiKVpOSUID2/jIOFSYFayc6IESOQkJCAjRs3om/fvjh27BgGDhyIuLg49O3bV9MxEhERKcVNOUkZtWZjGRrOxiIiatvm7v610QX+9s0fqsPISJtU/f1Wa8zO3LlzsWfPHqSkpKgdIBERkSbUbMpZXeff7rU35aT2Ta1kx8zMDBs2bIC3tzfc3d3xzDPP4NNPP0VSUpKm4yMiIlJKlU05qX1TK9n59NNPcePGDdy6dQubN2+GlZUVtmzZgl69esHNzU3TMRIRETWKm3JSU9RKdmrY2trC3t4etra2sLGxgYmJCRwdHTUVGxERUZNqNuU0rrPOm7FEglE+jpyVReolO6+99hqGDx8Oe3t7rFq1CuXl5Vi1ahUyMzPb3FYRRETU9oUH+yHQ20GhjJtyUg21ZmMZGRnB0dERS5cuxfTp09GjRw9txNZqOBuLiMgwcFPO9kWre2NdvnwZ0dHRiIqKwpYtW2BmZobRo0fj0UcfxaOPPtrmkx8iImqbvByY5FB9Glln53//+x8++OADfPXVV5DJZKiurtZEbK2GPTtERERtj1Z7doQQuHz5MqKiohAVFYUzZ86guLgY/fr1w+jRo9UOmoiIiEjT1Ep27OzsUFJSgv79+2P06NFYsGABRo4cCRsbGw2HR0RERNQyaiU7X375JUaOHMlbPkRERKT31Ep2Jk2aJP//27dvAwAXEyQiIiK9pNY6OzKZDOvXr4dUKoWnpyc8PT1hY2ODf//735DJZJqOkYiIiEhtavXsvP7669i9ezc2btyIwMBAAMCZM2ewbt06lJeX4+2339ZokERERETqUmvquaurK3bt2oUpU6YolP/44494+eWXcefOHY0F2Bo49ZyIiKjtUfX3W63bWPn5+ejVq1e98l69eiE/P1+dJomIiIi0Qq1kp3///vjwww/rlX/44Yfo379/i4MiIiIi0hS1xuxs3rwZkyZNwokTJxAQEAAAiIuLw61bt/Dzzz9rNEAiIiKillCrZ2f06NG4ceMGnnzySRQWFqKwsBDTp09HYmIiRo4cqekYiYiIiNSmkb2x2joOUCYiImp7tLo3FgAUFBRg9+7duH79OgDA19cXzz33HOzs7NRtkoiIiEjj1LqNFRMTg65du2L79u0oKChAQUEBtm/fDi8vL8TExGg6RiIiIqTklCAyMRupuaVaaT86MRvbTt7A6aQcrbTfXmn7c1OFWrex+vbti4CAAOzcuRPGxsYAgOrqarz88ss4e/Ysfv/9d40Hqk28jUVEpL8Kyx5g8f4ExNRKQkb5OCI82A9SC9MWt5+eV4ppO2JRUFYpL7O1MEVE6Ai421u0uP32StufG6DldXaSk5OxfPlyeaIDAMbGxli2bBmSk5PVaZKIiKhBi/cnIDY5V6EsNjkXi/Zf1kj7dRMdACgoq8SUHWc00n57pe3PrTnUSnYGDhwoH6tT2/Xr17nODhERaUxKTgliknJQXecmRLUQiEnKafGtkejE7HqJTo2Cskre0lKTtj+35lJrgPLixYvxyiuvIDk5GcOGDQMAnDt3Djt27MDGjRvx22+/yY/t16+fZiIlIqJ2Jz2/TGl9Wl4pvBws1W4/4Xah0vr4jAKM9HFUu/32StufW3OplewEBwcDAP75z382WCeRSCCEgEQiQXV1dcsiJCIyINGJ2Ui4XYiBHrb8EVWBp53yMTNd7Vv2gznAzUZp/UAP2xa1315p+3NrLrVuY6Wmpip9pKSkyP+rTExMDCZPngxXV1dIJBIcOnRIXldZWYlXX30Vffv2haWlJVxdXTF37lzcvXtXoY38/HzMmTMH1tbWsLGxwfz581FSUqLOaRERaU16Xin81h9DyJ4L+OB4Ep7d/Sv81h/DrTzl/wJu77o5WmGUjyOMJRKFcmOJBKN8HFvcOzC6pxNsGxksa2thyoRUTdr+3JpLrWTH09NT5YcypaWl6N+/P3bs2FGvrqysDPHx8VizZg3i4+Pxww8/IDExsd5O63PmzMHVq1dx/Phx/PTTT4iJicHChQvVOS0iomZpzpRaDoJVX3iwHwK9HRTKAr0dEB7sp5H2I0JH1Et4amZjkfq0/bk1h9orKH/xxRfYtWsXUlNTERcXB09PT2zduhVeXl6YOnVq8wORSHDw4EFMmzat0WMuXLiAoUOHIj09HR4eHrh+/Tp8fX1x4cIFDB48GABw5MgRPP7447h9+zZcXV1Vem9OPSei5mjulNroxGyE7LnQaHtfzB/KHgQVpOaWIi2vFF3tLbXSM3A6KQfxGQW8xahh2vzctDr1fOfOnVi2bBkef/xxFBYWysfl2NjYYOvWrWoFrIqioiJIJBLY2NgAeLj5qI2NjTzRAYCgoCAYGRnh/PnzWouDiNq35k6pVWUQLDXNy8ESY3o6ae0WyEgfR7wytgcTHQ3T9uemCrWSnfDwcHzyySd4/fXXFdbaGTx4sNYWFCwvL8err76K4OBgefaWmZkJJycnheNMTExgZ2eHzMzMRtuqqKhAcXGxwoOISBXqTKnlIFgi3VJ7gLKfX/17bubm5igt1fzc+crKSjz99NMQQmDnzp0tbm/Dhg2QSqXyh7u7uwaiJKL2QJUptXVxECyRbqmV7Hh5eSEhIaFe+ZEjR9C7d++WxqSgJtFJT0/H8ePHFe7Jubi4IDs7W+H4qqoq5Ofnw8XFpdE2V69ejaKiIvnj1q1bGo2ZiAyXulNqOQiWSHfUWmdn2bJlCA0NRXl5OYQQ+PXXX7F//35s2LABn376qcaCq0l0kpKSEBkZCXt7e4X6gIAAFBYW4tKlSxg0aBAA4NSpU5DJZPD392+0XXNzc5ibm2ssTiJqP2qm1MYm5yrcyjKWSBDo7dDouAR3ewtcXjuOg2CJdEDt2VhfffUV1q1bh5s3bwIAXF1d8eabb2L+/Pkqt1FSUiLfS8vPzw/vv/8+xowZAzs7O3Tu3BlPPfUU4uPj8dNPP8HZ2Vn+Ojs7O5iZmQEAJk6ciKysLOzatQuVlZV47rnnMHjwYHz99dcqx8HZWETUHEVllVi0/7JWNzgkoqap+vutdrJTo6ysDCUlJfUGCqsiKioKY8aMqVceEhKCdevWwcvLq8HXRUZG4tFHHwXwcFHBsLAw/Pe//4WRkRFmzJiB7du3w8rKSuU4mOwQkTq0PRWaiJTTarLz559/QggBC4uH967T09Nx8OBB+Pr6Yty4cepHrSNMdojaj7rbNaTklCA9v0xrCcvybxNwPi0PAd0c8O5MbpRMpElaTXbGjRuH6dOn48UXX0RhYSF69uwJMzMz5Obm4v3338dLL73UouBbG5MdIsOXnldabxVjEyMJqmR//RWoyVtRBy/dwtIDv9Ur3z5rAKb4dWlx+0Sk5UUF4+PjMXLkSADA999/DxcXF6Snp2Pfvn3Yvn27ehETEWlRQ9s11E50AOULAzZXQ4kOACz+NkGl7SWISHPUSnbKysrQqVMnAMCxY8cwffp0GBkZYdiwYUhPT9dogERELRWdmF0v0WmIsoUBm2P5twlK68e8F4W5u39FkQoxEVHLqZXseHt749ChQ7h16xaOHj0qH6eTnZ3N20BEpHea2q6hroYWBmyO82l5TR6jyV4k+svybxMwYtNJrDzwP12HQnpErWRn7dq1WLFiBbp27Qp/f38EBAQAeNjL09DKykREutTUdg11NbYwoKr8u9o3eYymepHooYOXbqHrqsP4z+U7uF1QjgOXbqPrqsOIuHxH16GRHlAr2XnqqaeQkZGBixcv4siRI/LysWPH4oMPPtBYcEREmqBsu4bajCUSjPJxbPGsrC2zBqh8bEt7keghZWOkiJqd7FRWVsLExAS5ubnw8/ODkdFfTQwdOhS9evXSaIBERJrQ0HYNJkYSheeB3g4ID9ZM7/R2FROelvYiUdNjpHhLi5q9XYSpqSk8PDxQXV2tjXiIqB2qu/aNNjS2XYO2Fgac4tcFU/y6YOWB/yEi4Q4qqhVnfjW1vQSprqkxUnEpua0UCekrtdbZ2b17N3744Qd88cUXsLOz00ZcrYrr7BDpRkNr39Rsjulur3zDzbaE20to1/JvE/AfJWNzZg5y44KOBkqriwr6+fkhOTkZlZWV8PT0hKWl4r9M4uPjmx+xDjHZIdINv/XHGpwSbmthistr295q7E3h9hLa03XV4Ubr0jZOasVIqDWp+vut1q7n06ZNUzcuIiIAyte+KSirxOmkHI3d0mrulhDa2kLCy4FJjrZsnzWgwcHIqo6dIsOmVrLzxhtvaDoOImpnmlr7Jj6joMXJTmHZAyzen6Dy7aPmHk/6o/YYqbiUXO5FRgrUSnZqXLp0CdevXwcA9OnTh2vsEJHKmlr7ZqCHbYvfY/H+BMQmKw5OrVnMb9/8oS0+njTvw5NJiL2Zi5E+jnh5jHezX6+LBEfbm8lSy6mV7GRnZ2P27NmIioqCjY0NAKCwsBBjxozBN998A0dH7cymICLDUbP2TWNjdlraq5OSU6LQQ1Oj9mJ+tX+Ymns8adbZ5Bz8/dNf5c/jUvKx+Wgivl0wDP7dm16kURfYE9h2qLWo4KJFi3D//n1cvXoV+fn5yM/Px5UrV1BcXIzFixdrOkYiMlANrX1TMxurpdLzy5TW113Mr7nHk2bVTnRqm/XJuVaORHXKegJJv6jVs3PkyBGcOHECvXv3lpf5+vpix44d8n2yiIia0tjaN5rgaad86nrdxfyaezxpzocnk5TWfxSZrNYtLW1iT2DbolbPjkwmg6lp/S46U1NTyGSyFgdFRO3LSB9HvDK2h0YXFOzmaIVRPo4wliiuktzYlhDNPZ40J/am8kX/TjeQVOgaewLbFrWSncceewyvvPIK7t69Ky+7c+cOli5dirFjx2osOCKilggP9kOgt4NCmbItIZp7PGlGYHcHpfXaWlW7JdgT2LaotajgrVu3MGXKFFy9ehXu7u4AgIyMDPTt2xcRERFwc3PTeKDaxEUFiQxbcxfz4+J/ra8tLgo4d/eviE3ORXWtn9GabUA4e691aHUFZQAQQuDkyZPyqee9e/dGUFCQetHqGJMdIiLdOn8zr8HByPo8G4vbgOie1pOdkydP4uTJk8jOzq43Tuezzz5Tp0mdYbJDRKQfPopMlq+erW+DkhvDnkDd0ep2EW+++SbWr1+PwYMHo3PnzpDUGdBHRESkjpfHeLcoydHFAn/cBkT/qZXs7Nq1C3v37sWzzz6r6XiIiIiajQv8kTJqzcZ68OABhg8frulYiIiI1MIF/kgZtZKdF154AV9//bWmYyEiImq2mgX+qusMQa29wB+1byrfxlq2bJn8/2UyGT7++GOcOHEC/fr1q7fA4Pvvv6+5CImIiJRQZYE/jqlp31ROdi5fVuwKHDBgAADgypUrCuUcrExERK2JC/xRU1ROdiIjI7UZBxERkVpqtvpobIE/9uqQWmN2iIiI9Am3+iBl1Jp6TkREpE+kFqbYN38oF/ijBjHZIVLDt79mIC41D4HdHTBzsLuuw6E2QhcL3rU3XOCPGqL2dhGGhNtFkKp+v12IJz86iyrZX39sTIwkiAgNhG8XqQ4jI33GBe+ItEPV32+O2SFqhrqJDgBUyQSm7IjVUUSkL1JyShCZmN3gmi4NLXh3OimHC94RtRLexiJS0be/ZtRLdGpUyQQOXLzFW1rtUFO9NjUL3tUlAMQk5eBsci6G1xlYS0SapdOenZiYGEyePBmurq6QSCQ4dOiQQr0QAmvXrkXnzp3RsWNHBAUFISkpSeGY/Px8zJkzB9bW1rCxscH8+fNRUlLSimdB7UVcap7S+tibuUrrSTXKekh02VZjmtqmoKkF7xZ+cVFrsRHRQzrt2SktLUX//v3x/PPPY/r06fXqN2/ejO3bt+Pzzz+Hl5cX1qxZg/Hjx+PatWvo0KEDAGDOnDm4d+8ejh8/jsrKSjz33HNYuHAht7MgjQvwssehy3cbrQ/szn+dt4Qmx7W01hiZxnptam9T0NSCdyUV1TidlIORPo4ai4uIFOm0Z2fixIl466238OSTT9arE0Jg69at+Ne//oWpU6eiX79+2LdvH+7evSvvAbp+/TqOHDmCTz/9FP7+/hgxYgTCw8PxzTff4O7dxn+UiNQxa6gHTIwaXiHcxEjCW1gtpMmNHFtrU0hVtino5mgFT7uOSo+LzyjQZFhEVIfeDlBOTU1FZmYmgoKC5GVSqRT+/v6Ii4sDAMTFxcHGxgaDBw+WHxMUFAQjIyOcP3++0bYrKipQXFys8CBSRURoYL2Ep2Y2FqlPkxs5tuamkKpuU/DqxN5KjxvoYauxmIioPr1NdjIzMwEAzs7OCuXOzs7yuszMTDg5OSnUm5iYwM7OTn5MQzZs2ACpVCp/uLvzX+SkGt8uUiS/8zjefaofpvm54t2n+iH5ncc57byFVOkh0UVbTanZpsC4zp6AxhIJRvk4ytd7ebxvZ9g2cvvM1sKUt7CItExvkx1tWr16NYqKiuSPW7du6TokamNmDnbH1ll+vHWlIZrcyLG1N4VUdZuCiNAR9RIeWwtTRISO0Gg8RFSf3k49d3FxAQBkZWWhc+fO8vKsrCz5jusuLi7Izs5WeF1VVRXy8/Plr2+Iubk5zM3NNR80EalFkxs5tvamkKpuU+Bub4HLa8fhdFIO4jMKMNDDlj06RK1Eb3t2vLy84OLigpMnT8rLiouLcf78eQQEBAAAAgICUFhYiEuXLsmPOXXqFGQyGfz9/Vs9ZiJSnyY3clS3rejEbGw7eQOnG5hh1RQvB0uM6enUZDI10scRr4ztwURHiZZ8DkQN0WnPTklJCZKTk+XPU1NTkZCQADs7O3h4eGDJkiV466234OPjI5967urqimnTpgEAevfujQkTJmDBggXYtWsXKisrERYWhtmzZ8PV1VVHZ0VE6tDkRo7NbSs9rxTTdsSioKxSXlZzi8ndXvltMdIcfg6kLTrdGysqKgpjxoypVx4SEoK9e/dCCIE33ngDH3/8MQoLCzFixAh89NFH6NGjh/zY/Px8hIWF4b///S+MjIwwY8YMbN++HVZWVirHwb2xiNo3v/XHFH5ga9hamOLy2nE6iKh94udAzaXq7zc3AgWTHaL2LDoxGyF7LjRa/8X8obzl1Ar4OZA6uBEoEZEKEm4XKq3ngn+tg58DaROTHSJq1wa42Sit54J/rYOfA2kTkx0iMnjKNgQd3dOJC/7pgdE9nZTW83OgltDbdXaIiFpK1Q1BI0JH4IkPT6PozyqF1/s4dUJRWaVGNw+lhn14Mklp/UeRyXh5jHcrRUOGhj07RGSwVN0Q1N3eAv3dbFF3n9dL6QUa3zyUGhZ7M1dpPdfcoZZgskNEBqk5G4LWHCurMzdVG5uHUsMCuzsoredtLGoJJjtEZJCasyFoa24eSg0LG+ujtJ63sKglmOwQkUFqzoagmto89MOTSQj+OA4fRSY3fTDV8+2CYc0qJ1IVBygTkUFqzoagLd089GxyDv7+6a/y53Ep+dh8NBHfLhgG/+72Gjwrw+bf3R5pGyfho8hknE7KwUgfR/bokEZwBWVwBWUiQ1VUVolF+y83ORurucfW1XXV4Ubr0jZOUjN6ImqKqr/f7NkhIoPVnA1B1d2IlFOmifQfkx0iUllKTgnS88tatCO5Lng5qB5vc44FVJsyzWSHSLeY7BBRk1RdnK89CuzugLiU/EbrOWWaSPc4G4uImqTq4nztEadME+k/JjtEpFRzFudrrzhlmki/8TYWESmlyoJ7bWn8jjZwyjSRfmOyQ0RKaWrBPX0RnZiNhNuFGOhhi5E+js0edF339bW9PMabSQ6RHmKyQ0RKtXTBPX2RnleKaTtiUVBWKS8zMZKgqtaGWMoGXTf0elsLU0SEjoC7vfKEkIh0i2N2iKhJ4cF+CPRW3Kgx0NsB4cF+Ooqo+eomKgAUEh1A+aDrhl5fUFaJKTvOaDZQItI49uwQUZPUXXBPX0QnZtdLVBpSe9B17fNT9vqCskr5OB0i0k9MdohIZc1dcA9QPsaltSTcLmzW8XUHXTf1+viMAshkQufnSUQNY7JDRFqhT2NcBrjZNOv4uoOum3r9x9EpKH1QLX/OsTxE+oVjdohIK/RhjMu3v2ZgybeXkX2/ArYqrPRsLJFglI9jvd6r0T2dlL6+dqIDcCwPkb5hskNEGqfKGBdt+v12Ibxf+xmv/vA7Dl2+i5Xf/4bi8kp0Mlf8K8/ESKLwXNmg64jQEfUSHitz40ZjaI3zJCLV8DYWEWmcKmNctDmu5cmPztabaVUtA/6sFPhi/lDEZxTIx9aoOuja3d4Cl9eOw+mkHPnr4zMK8MHxxnc9b+55ro+4irMpuRjh7Yh/PeGr8uuISDkmO0SkcU2NcRnoYau19/7214x6iU6NKplAZlE5XhnbQ17W3EHXI30c5QmMrJH3qaHqeR67cg8Lv4yXP/8jswSfnknF7rmDMdbXWeXYiKhhvI1FRBqnbIyLrYWpVnt14lLzlNbH3sxVWt8cmjrP2olObfP3XVQ7NiL6C5MdItKKhsa41MxS0qYAL3ul9YHdHZTWN1dLz3N9xFWl9W/9dE3t2IjoId7GIiKtaGiMS2usPzNrqAdeP3SlwVtZJkYSzBzsrtH3a+l5nk1R3tN0JpmDnIlaiskOEWlV7TEurSUiNBBTdsQqJDwSAGFjujf52pScEpxPzYcEgH83e5XH86h7nsO7OeCPzJJG60d4c4FCopaSCCGUj7BrB4qLiyGVSlFUVARra2tdh0NEGvLBsT+w7dRNhTITIwkiQgPh20WqUF5Y9gAvfRmPuBTFMT/Du9tj55xBDW4OqildVx1utC5t4yStvS9RW6fq7zfH7BCRwdoRlVKvrEomMGVHbL3yxfsT6iU6AHD2Zl6jm4Nqyu65g5tVTkTNw2SHiAxSU1PQD1y8JX+eklOCGCULANZsDqotY32dkbZxEl4Y4YVeLlZ4YYQX0jZO4rRzIg3R62Snuroaa9asgZeXFzp27Iju3bvj3//+N2rfeRNCYO3atejcuTM6duyIoKAgJCU1vsgXEbUPzZmCnp5f1mR7aXnaS3Zq/OsJXxxZMpoLChJpmF4nO5s2bcLOnTvx4Ycf4vr169i0aRM2b96M8PBw+TGbN2/G9u3bsWvXLpw/fx6WlpYYP348ysvLdRg5Eelac6age9o1vWFn3c1Biajt0Otk5+zZs5g6dSomTZqErl274qmnnsK4cePw66+/AnjYq7N161b861//wtSpU9GvXz/s27cPd+/exaFDh3QbPBHp1KyhHvX2vqpRdwp6N0crjFIyk6qhzUGJqO3Q62Rn+PDhOHnyJG7cuAEA+N///oczZ85g4sSJAIDU1FRkZmYiKChI/hqpVAp/f3/ExcU12m5FRQWKi4sVHkRkeCJCA+slPDWzseoKD/ZDQLf6vUHDu9s3ujkoEbUNer3OzqpVq1BcXIxevXrB2NgY1dXVePvttzFnzhwAQGZmJgDA2VlxEJ+zs7O8riEbNmzAm2++qb3AiUgv+HaRIvmdx3Hg4i3E3sxFYHeHRhcVlFqYYv/CYUjNLcW5lLxmr7NDRPpLr5Od7777Dl999RW+/vpr9OnTBwkJCViyZAlcXV0REhKidrurV6/GsmXL5M+Li4vh7q7ZVVWJSH/MHOyu8srJzd0YlIj0n14nOytXrsSqVaswe/ZsAEDfvn2Rnp6ODRs2ICQkBC4uLgCArKwsdO7cWf66rKwsDBgwoNF2zc3NYW5urtXYiYiISD/o9ZidsrIyGBkphmhsbAyZTAYA8PLygouLC06ePCmvLy4uxvnz5xEQENCqsRIREZF+0uuencmTJ+Ptt9+Gh4cH+vTpg8uXL+P999/H888/DwCQSCRYsmQJ3nrrLfj4+MDLywtr1qyBq6srpk2bptvgiYiISC/odbITHh6ONWvW4OWXX0Z2djZcXV3xj3/8A2vXrpUf889//hOlpaVYuHAhCgsLMWLECBw5cgQdOnTQYeStKyWnBOn5Zehqr59jDaITs5Fwu7DVdr3WNn2/3o1pq3ETEbUUNwJF290ItLDsARbvT1BY5n6UjyPCg/20ummhqtLzSjFtRywKyirlZbYWpogIHQF3+6YXcdM3+n69G9NW4yYiago3Am0HFu9PQGxyrkJZbHKu1jctVFXdRAcACsoqMWXHGR1F1DL6fr0b01bjJiLSFCY7bVTNxoXVdTrmqoXQ+qaFqohOzK6X6NQoKKvEaSWbLuojfb/ejWmrcRMRaRKTnTaqqY0LW2PTQmUSbhcqrY/PKGidQDRE3693Y9pq3EREmsRkp41qauNCXW9aOMDNRmn9QA/b1glEQ/T9ejemrcZNRKRJTHbaqJqNC40livv+GEskerFp4eieTrBtZPCrrYVpm5uVpe/XuzFtNW4iIk1istOGhQf7IdDbQaEs0NtBbzYtjAgdUS/hqZmN1RY1dL0HetggPNgPKTkliEzM1ssxMPr+PTEk+vw9IGrPOPUcbXfqeY3U3FKk5ZXq7fopp5NyEJ9RYBDr7BSWPcCCfRdxIe2vMUe2FqYKg7H1dVq3vn9P2jJO7yfSDVV/v5nsoO0nO9R65u7+FbHJufVmN9VmLJEg0NsB++YPbcXISJca+l7we0CkfVxnh0jDGpvGXRendbcvnN5PpP+Y7BCpqKlp3HVxWnf7wOn9RPqPyQ6Ripqaxl0Xp3W3D5zeT6T/mOwQ1aJsNk1j07jrqjut25Bn6KyPuIoJW6Px1k/XWtROdGI2tp280eZW1gY4vZ+oLeAAZXCAMqk+m6aorBKL9l9WOK6x2VgCwmBn6By7cg8Lv4yvV7577mCM9XVWuR1D2Sy2oe+FoXzWRPqMs7GagckONXc2Td1p3A1N6zbkGTpdVx1utC5t4ySV2/Fbf6zBPdRsLUxxee04tWLTJU7vJ2pdqv5+m7RiTER6qWY2TV21Z9N4OVgiJacE6fll8h+y2j9mdZ+r2qamz6N2fJqyPuIqzqbkom8XGzzerzN++t9dpce/9dM1/OsJ3ybbVWWz2IbWZYpOzEbC7UK9XLep7veAiPQDkx1q95qaTXPlbhHe+PFqs25RqDJDR1M/itpa0K7urao/Mktw4NLtJl93Jlm1cTeqbBZbO5kxlFteRNT6OECZ2r2mZtPsO5uG2ORchbKYpBwMWH8MT2yLUatNTc7QWbw/oV58scm5WLT/covabWhMjiosTI1xOimnyUHHzd0stm6iAzzsAZqy40yjbRjy4HAiUh17dqjdq5lN09D4Gj8PG4WtIWoTAK7cu4+uqw5j0ZjuWD6+V5Nt1vjb+9GICA2Ebxdpi2LX1u2y9RFX1Y4p/lYRnt39q0JZQz0wNZvFNjZmp3avTnNveXH7BiKqjT07RGh8s8znhndV7fWRN1Vqs0aVTGDKjthmx1mXtha0O5uS2/RBzdBYD4yqm8WqcsurNm31dhFR28SeHSIAUgtT7Js/tN5smpScEpXbeGJbDH56ZZRCm5P6ujTY8wI8THgOXLyFmYPd1Y5bW7fLhndzwB+ZTZ/7zEFuiEvJxe2C8iaPbagHxt3eApfXjmtys9jm3PLSxeBwItJv7NkhqsXLwRJjejrJfwxVXUgQAG5k108O4lLzlL4m9mbLelC0taDd2il9lNbXtP/uzP7NStbq9sDUGOnjiFfG9mh0dlXNLa+G1L3lxe0biKguJjtETVB2O6q2Hk5W9coCvOyVviawe9PtNqWxW3DhwX4tanf33MGN1tVuv6lel9rqDjpuDlVveXH7BiKqi4sKgosKkmpSc0sx5r2oRusbW0zP+7WfUSWr/8fMxEiC5Hce11R4WlvQ7q2fruFMco58nZ2G2m9sccDaNLVQYFO3vADDXtCRiP7CFZSbgckOqWrL0T8aHIxcdzZWbdfuFGHKjliFhMfESKKR2Vj64lZeGabsONNowtPa6+Fw+wai9oHJTjMw2aHmemJbDG5kl6CHk5XCoGRlDly8hdibuQjs7tCiQcn6rHavC4Ame2C0jds3EBk2JjvNwGSHiIio7VH195sDlImIiMigMdkhIiIig8Zkh4iIiAwaV1Am0qJvf81AXGqeQQ9K1jZeQyJqKQ5QBgcok+b9frsQT3501qCnm2sbryERNYUDlIl0qO6PNKC5zT/bC15DItIUJjtEGvbtrxkNrpgM/LX5JynHa0hEmqT3yc6dO3fwzDPPwN7eHh07dkTfvn1x8eJFeb0QAmvXrkXnzp3RsWNHBAUFISkpSYcRU10pOSWITMxGam772IBR25t/tge8hkSkSXqd7BQUFCAwMBCmpqb45ZdfcO3aNWzZsgW2tn9tJrh582Zs374du3btwvnz52FpaYnx48ejvLxch5ETABSWPcDc3b/isS3ReG7PBYx5Lwpzd/+Koib2UGrrWmPzT0PHa0hEmqTXA5RXrVqF2NhYnD59usF6IQRcXV2xfPlyrFixAgBQVFQEZ2dn7N27F7Nnz1bpfThAWTva82aMrbX5pyHjNSSiphjEAOWIiAgMHjwYM2fOhJOTE/z8/PDJJ5/I61NTU5GZmYmgoCB5mVQqhb+/P+Li4hptt6KiAsXFxQoP0qyUnBLEJOUoJDoAUC0EYpJyDP6WVkRoIEyMJAplNTOJSDW8hkSkKXq9zk5KSgp27tyJZcuW4bXXXsOFCxewePFimJmZISQkBJmZmQAAZ2dnhdc5OzvL6xqyYcMGvPnmm1qNvb1Lzy9TWp+WV2rQGzP6dpEi+Z3H28Xmn9rCa0hEmqLXyY5MJsPgwYPxzjvvAAD8/Pxw5coV7Nq1CyEhIWq3u3r1aixbtkz+vLi4GO7ubfcv0ZScEqTnl+nVzs6edhZK67va60ec2jZzsDt/oFuI15CIWkqvk53OnTvD19dXoax37974z3/+AwBwcXEBAGRlZaFz587yY7KysjBgwIBG2zU3N4e5ubnmA25lhWUPsHh/AmKScuRlo3wcER7sB6mFqQ4jA7o5WmGUj2OjY3b0JSkjIiLDp9djdgIDA5GYmKhQduPGDXh6egIAvLy84OLigpMnT8rri4uLcf78eQQEBLRqrLqweH8CYpMVp+DGJudi0f7LOopIUXiwHwK9FWfNBHo7IDzYT0cRERFRe6TXPTtLly7F8OHD8c477+Dpp5/Gr7/+io8//hgff/wxAEAikWDJkiV466234OPjAy8vL6xZswaurq6YNm2aboPXspoBwHXVHgCs694TqYUp9s0fitTcUqTllerVbTYiImo/9DrZGTJkCA4ePIjVq1dj/fr18PLywtatWzFnzhz5Mf/85z9RWlqKhQsXorCwECNGjMCRI0fQoUMHHUaufW1pALCXA5McQxWdmI2E24UY6GGLkT6Oug6HiKhBer3OTmtpi+vspOSU4LEt0Y3WR654lAkGaU16Ximm7YhFQa0FIm0tTBEROgLu9soHpxMRaYpBrLNDjasZAGwsUVyHxFgiwSgfRyY6pDENbfdRN9EBgIKySkzZcaa1wyMiapJe38Yi5cKD/bBo/2WFsTscAEya0thsv9lD3eslOjUKyipxOimHt7SISK8w2WnDOACYtKmx2X7peSVKXxefUcBkh4j0CpMdA8ABwKRpymb7pef/qfS1Az1sldYTEbU2jtkhonqamu1nZW7cYLmthSl7dYhI7zDZIaJ6mtru4+NnB8O2zirdNbOxiIj0DW9jEVE9TW33MdzbAZfXjsPppBzEZxRwnR0i0mtcZwdtc50dIm0rKqusN9tPX/ZeUxUXPSQybKr+frNnh4ga1JZn+3HRQyKqjWN2iEgpLwdLjOnp1GYSHYCLHhKRIiY7RGRQohOzm1z0kIjaFyY7RGRQEm4XKq2PzyhonUCISG8w2SEigzLAzUZpPRc9JGp/mOwQkUEZ3dOp3hpANbjoIVH7xGSHiAxOROgILnpIRHKcek5EBsfd3oKLHhKRHJMdLUrJKUF6flmbWp+EyJCM9HFkkkNETHa0obDsARbvT2jTK88SEREZCo7Z0YLF+xMQm5yrUBabnItF+y/rKCIiIqL2i8mOhqXklCAmKUdh80QAqBYCMUk5SM0t1VFkRERE7ROTHQ1Lzy9TWp+Wx2SHiIioNTHZ0TBPO+WbDHa150BlIiKi1sRkR8O6OVphlI8jjCUShXJjiQSjfBw5K4uIiKiVMdnRgvBgPwR6OyiUBXo7IDzYT0cRERERtV+ceq4FUgtT7Js/FKm5pUjLK+U6O0RERDrEZEeLvByY5BAREekab2MRERGRQWOyQ0RERAaNyQ4REREZNCY7REREZNCY7BAREZFBY7JDREREBo3JDhERERk0JjtERERk0JjsEBERkUFjskNEREQGjdtFABBCAACKi4t1HAkRERGpquZ3u+Z3vDFMdgDcv38fAODu7q7jSIiIiKi57t+/D6lU2mi9RDSVDrUDMpkMd+/eRadOnSCRSFR+XXFxMdzd3XHr1i1YW1trMcK2jdepabxGTeM1Ug2vU9N4jZrWVq6REAL379+Hq6srjIwaH5nDnh0ARkZGcHNzU/v11tbWev1l0Be8Tk3jNWoar5FqeJ2axmvUtLZwjZT16NTgAGUiIiIyaEx2iIiIyKAx2WkBc3NzvPHGGzA3N9d1KHqN16lpvEZN4zVSDa9T03iNmmZo14gDlImIiMigsWeHiIiIDBqTHSIiIjJoTHaIiIjIoDHZISIiIoPGZKcBMTExmDx5MlxdXSGRSHDo0KFGj33xxRchkUiwdetWhfL8/HzMmTMH1tbWsLGxwfz581FSUqLdwFtRU9do3rx5kEgkCo8JEyYoHNPerxEAXL9+HVOmTIFUKoWlpSWGDBmCjIwMeX15eTlCQ0Nhb28PKysrzJgxA1lZWa14FtrX1HWq+z2qebz77rvyY9r7d6mkpARhYWFwc3NDx44d4evri127dikcY+jfpaauUVZWFubNmwdXV1dYWFhgwoQJSEpKUjjG0K/Rhg0bMGTIEHTq1AlOTk6YNm0aEhMTFY5R5RpkZGRg0qRJsLCwgJOTE1auXImqqqrWPJVmY7LTgNLSUvTv3x87duxQetzBgwdx7tw5uLq61qubM2cOrl69iuPHj+Onn35CTEwMFi5cqK2QW50q12jChAm4d++e/LF//36F+vZ+jW7evIkRI0agV69eiIqKwm+//YY1a9agQ4cO8mOWLl2K//73vzhw4ACio6Nx9+5dTJ8+vbVOoVU0dZ1qf4fu3buHzz77DBKJBDNmzJAf096/S8uWLcORI0fw5Zdf4vr161iyZAnCwsIQEREhP8bQv0vKrpEQAtOmTUNKSgp+/PFHXL58GZ6enggKCkJpaan8OEO/RtHR0QgNDcW5c+dw/PhxVFZWYty4cc26BtXV1Zg0aRIePHiAs2fP4vPPP8fevXuxdu1aXZyS6gQpBUAcPHiwXvnt27dFly5dxJUrV4Snp6f44IMP5HXXrl0TAMSFCxfkZb/88ouQSCTizp07rRB162roGoWEhIipU6c2+hpeIyFmzZolnnnmmUZfU1hYKExNTcWBAwfkZdevXxcARFxcnLZC1anG/rzVNnXqVPHYY4/Jn/O7JESfPn3E+vXrFcoGDhwoXn/9dSFE+/su1b1GiYmJAoC4cuWKvKy6ulo4OjqKTz75RAjR/q6REEJkZ2cLACI6OloIodo1+Pnnn4WRkZHIzMyUH7Nz505hbW0tKioqWvcEmoE9O2qQyWR49tlnsXLlSvTp06defVxcHGxsbDB48GB5WVBQEIyMjHD+/PnWDFWnoqKi4OTkhJ49e+Kll15CXl6evK69XyOZTIbDhw+jR48eGD9+PJycnODv76/Q9X7p0iVUVlYiKChIXtarVy94eHggLi5OB1HrXlZWFg4fPoz58+fLy9r7dwkAhg8fjoiICNy5cwdCCERGRuLGjRsYN24cAH6XKioqAECh19TIyAjm5uY4c+YMgPZ5jYqKigAAdnZ2AFS7BnFxcejbty+cnZ3lx4wfPx7FxcW4evVqK0bfPEx21LBp0yaYmJhg8eLFDdZnZmbCyclJoczExAR2dnbIzMxsjRB1bsKECdi3bx9OnjyJTZs2ITo6GhMnTkR1dTUAXqPs7GyUlJRg48aNmDBhAo4dO4Ynn3wS06dPR3R0NICH18jMzAw2NjYKr3V2dm4X16ghn3/+OTp16qTQrd7ev0sAEB4eDl9fX7i5ucHMzAwTJkzAjh07MGrUKAD8LtX8YK9evRoFBQV48OABNm3ahNu3b+PevXsA2t81kslkWLJkCQIDA/HII48AUO0aZGZmKiQ6NfU1dfqKu54306VLl7Bt2zbEx8dDIpHoOhy9NXv2bPn/9+3bF/369UP37t0RFRWFsWPH6jAy/SCTyQAAU6dOxdKlSwEAAwYMwNmzZ7Fr1y6MHj1al+Hprc8++wxz5sxR+Bc6PUx2zp07h4iICHh6eiImJgahoaFwdXVV+Fd6e2VqaooffvgB8+fPh52dHYyNjREUFISJEydCtNNNBEJDQ3HlyhV5z5ahY89OM50+fRrZ2dnw8PCAiYkJTExMkJ6ejuXLl6Nr164AABcXF2RnZyu8rqqqCvn5+XBxcdFB1LrXrVs3ODg4IDk5GQCvkYODA0xMTODr66tQ3rt3b/lsLBcXFzx48ACFhYUKx2RlZbWLa1TX6dOnkZiYiBdeeEGhvL1/l/7880+89tpreP/99zF58mT069cPYWFhmDVrFt577z0A/C4BwKBBg5CQkIDCwkLcu3cPR44cQV5eHrp16wagfV2jsLAw/PTTT4iMjISbm5u8XJVr4OLiUm92Vs1zfb5OTHaa6dlnn8Vvv/2GhIQE+cPV1RUrV67E0aNHAQABAQEoLCzEpUuX5K87deoUZDIZ/P39dRW6Tt2+fRt5eXno3LkzAF4jMzMzDBkypN60zxs3bsDT0xPAw7+cTU1NcfLkSXl9YmIiMjIyEBAQ0Krx6oPdu3dj0KBB6N+/v0J5e/8uVVZWorKyEkZGin+dGxsby3sQ+V36i1QqhaOjI5KSknDx4kVMnToVQPu4RkIIhIWF4eDBgzh16hS8vLwU6lW5BgEBAfj9998V/oFx/PhxWFtb1/vHm17R8QBpvXT//n1x+fJlcfnyZQFAvP/+++Ly5csiPT29wePrzsYSQogJEyYIPz8/cf78eXHmzBnh4+MjgoODWyH61qHsGt2/f1+sWLFCxMXFidTUVHHixAkxcOBA4ePjI8rLy+VttOdrJIQQP/zwgzA1NRUff/yxSEpKEuHh4cLY2FicPn1a3saLL74oPDw8xKlTp8TFixdFQECACAgI0NUpaYUqf96KioqEhYWF2LlzZ4NttPfv0ujRo0WfPn1EZGSkSElJEXv27BEdOnQQH330kbwNQ/8uNXWNvvvuOxEZGSlu3rwpDh06JDw9PcX06dMV2jD0a/TSSy8JqVQqoqKixL179+SPsrIy+TFNXYOqqirxyCOPiHHjxomEhARx5MgR4ejoKFavXq2LU1IZk50GREZGCgD1HiEhIQ0e31Cyk5eXJ4KDg4WVlZWwtrYWzz33nLh//772g28lyq5RWVmZGDdunHB0dBSmpqbC09NTLFiwQGGqohDt+xrV2L17t/D29hYdOnQQ/fv3F4cOHVJo488//xQvv/yysLW1FRYWFuLJJ58U9+7da+Uz0S5VrtP//d//iY4dO4rCwsIG22jv36V79+6JefPmCVdXV9GhQwfRs2dPsWXLFiGTyeRtGPp3qalrtG3bNuHm5iZMTU2Fh4eH+Ne//lVvqrShX6OGrg8AsWfPHvkxqlyDtLQ0MXHiRNGxY0fh4OAgli9fLiorK1v5bJpHIkQ7HZ1FRERE7QLH7BAREZFBY7JDREREBo3JDhERERk0JjtERERk0JjsEBERkUFjskNEREQGjckOERERGTQmO0SkVx599FEsWbJE12EgKioKEomk3j5BRNT2MNkhonZPXxIsItIOJjtERERk0JjsEJHeqqiowIoVK9ClSxdYWlrC398fUVFR8vq9e/fCxsYGR48eRe/evWFlZYUJEybg3r178mOqqqqwePFi2NjYwN7eHq+++ipCQkIwbdo0AMC8efMQHR2Nbdu2QSKRQCKRIC0tTf76S5cuYfDgwbCwsMDw4cPr7VRPRPqPyQ4R6a2wsDDExcXhm2++wW+//YaZM2diwoQJSEpKkh9TVlaG9957D1988QViYmKQkZGBFStWyOs3bdqEr776Cnv27EFsbCyKi4tx6NAhef22bdsQEBCABQsW4N69e7h37x7c3d3l9a+//jq2bNmCixcvwsTEBM8//3yrnDsRaY6JrgMgImpIRkYG9uzZg4yMDLi6ugIAVqxYgSNHjmDPnj145513AACVlZXYtWsXunfvDuBhgrR+/Xp5O+Hh4Vi9ejWefPJJAMCHH36In3/+WV4vlUphZmYGCwsLuLi41Ivj7bffxujRowEAq1atwqRJk1BeXo4OHTpo58SJSOOY7BCRXvr9999RXV2NHj16KJRXVFTA3t5e/tzCwkKe6ABA586dkZ2dDQAoKipCVlYWhg4dKq83NjbGoEGDIJPJVIqjX79+Cm0DQHZ2Njw8PJp/UkSkE0x2iEgvlZSUwNjYGJcuXYKxsbFCnZWVlfz/TU1NFeokEgmEEBqLo3b7EokEAFROlIhIP3DMDhHpJT8/P1RXVyM7Oxve3t4Kj4ZuNzVEKpXC2dkZFy5ckJdVV1cjPj5e4TgzMzNUV1drNH4i0h/s2SEivdSjRw/MmTMHc+fOxZYtW+Dn54ecnBycPHkS/fr1w6RJk1RqZ9GiRdiwYQO8vb3Rq1cvhIeHo6CgQN5LAwBdu3bF+fPnkZaWBisrK9jZ2WnrtIhIB9izQ0R6a8+ePZg7dy6WL1+Onj17Ytq0abhw4UKzxsu8+uqrCA4Oxty5cxEQEAArKyuMHz9eYYDxihUrYGxsDF9fXzg6OiIjI0Mbp0NEOiIRmry5TUSk52QyGXr37o2nn34a//73v3UdDhG1At7GIiKDlp6ejmPHjmH06NGoqKjAhx9+iNTUVPz973/XdWhE1Ep4G4uIDJqRkRH27t2LIUOGIDAwEL///jtOnDiB3r176zo0ImolvI1FREREBo09O0RERGTQmOwQERGRQWOyQ0RERAaNyQ4REREZNCY7REREZNCY7BAREZFBY7JDREREBo3JDhERERk0JjtERERk0P4fhuUtbteMeSYAAAAASUVORK5CYII=",
>>>>>>> b221b9bee5101e6b7ad5139feaab1c325ac4d49b
      "text/plain": [
       "<Figure size 640x480 with 1 Axes>"
      ]
     },
     "metadata": {},
     "output_type": "display_data"
    }
   ],
   "source": [
    "# Put code here\n",
<<<<<<< HEAD
=======
    "# Put code here\n",
>>>>>>> b221b9bee5101e6b7ad5139feaab1c325ac4d49b
    "new_df.plot(kind='scatter', x='length', y='horsepower', title='Length vs Horsepower')\n",
    "\n",
    "plt.show()"
   ]
  },
  {
   "cell_type": "markdown",
   "metadata": {},
   "source": [
    "&#9989; **Questions 2.5 (1 points)**: Do you notice any pattern in the plot from the previous question? Briefly describe any pattern you notice in the cell below. "
   ]
  },
  {
   "cell_type": "markdown",
   "metadata": {},
   "source": [
    "***I notice a positive correlation, and can see that a higher length generally would lead to a higher horsepower***"
   ]
  },
  {
   "cell_type": "markdown",
   "metadata": {},
   "source": [
    "&#9989; **Questions 2.6 (2 points)**: Now using the `new_df` DataFrame, filter for just cases where `horsepower` is greater than 160. Show the code you used to filter the DataFrame and then record the number of cases in the DataFrame that passed the filter. "
   ]
  },
  {
   "cell_type": "code",
<<<<<<< HEAD
   "execution_count": 7,
=======
   "execution_count": 11,
>>>>>>> b221b9bee5101e6b7ad5139feaab1c325ac4d49b
   "metadata": {},
   "outputs": [
    {
     "data": {
      "text/html": [
       "<div>\n",
       "<style scoped>\n",
       "    .dataframe tbody tr th:only-of-type {\n",
       "        vertical-align: middle;\n",
       "    }\n",
       "\n",
       "    .dataframe tbody tr th {\n",
       "        vertical-align: top;\n",
       "    }\n",
       "\n",
       "    .dataframe thead th {\n",
       "        text-align: right;\n",
       "    }\n",
       "</style>\n",
       "<table border=\"1\" class=\"dataframe\">\n",
       "  <thead>\n",
       "    <tr style=\"text-align: right;\">\n",
       "      <th></th>\n",
       "      <th>length</th>\n",
       "      <th>horsepower</th>\n",
       "    </tr>\n",
       "  </thead>\n",
       "  <tbody>\n",
       "    <tr>\n",
       "      <th>32</th>\n",
       "      <td>199.600006</td>\n",
       "      <td>176.0</td>\n",
       "    </tr>\n",
       "    <tr>\n",
       "      <th>75</th>\n",
       "      <td>170.699997</td>\n",
       "      <td>200.0</td>\n",
       "    </tr>\n",
       "    <tr>\n",
       "      <th>137</th>\n",
       "      <td>183.500000</td>\n",
       "      <td>161.0</td>\n",
       "    </tr>\n",
       "    <tr>\n",
       "      <th>138</th>\n",
       "      <td>183.500000</td>\n",
       "      <td>161.0</td>\n",
       "    </tr>\n",
       "    <tr>\n",
       "      <th>152</th>\n",
       "      <td>188.800003</td>\n",
       "      <td>162.0</td>\n",
       "    </tr>\n",
       "    <tr>\n",
       "      <th>153</th>\n",
       "      <td>188.800003</td>\n",
       "      <td>162.0</td>\n",
       "    </tr>\n",
       "  </tbody>\n",
       "</table>\n",
       "</div>"
      ],
      "text/plain": [
       "         length  horsepower\n",
       "32   199.600006       176.0\n",
       "75   170.699997       200.0\n",
       "137  183.500000       161.0\n",
       "138  183.500000       161.0\n",
       "152  188.800003       162.0\n",
       "153  188.800003       162.0"
      ]
     },
     "metadata": {},
     "output_type": "display_data"
    }
   ],
   "source": [
    "# Put code here\n",
    "filter_df = new_df[new_df['horsepower']>160]\n",
    "display(filter_df)"
   ]
  },
  {
   "cell_type": "markdown",
   "metadata": {},
   "source": [
    "***The number of cases with `horsepower` greater than 160 is 6***"
   ]
  },
  {
   "cell_type": "code",
   "execution_count": null,
   "metadata": {},
   "outputs": [],
   "source": []
  },
  {
   "cell_type": "markdown",
   "metadata": {
    "tags": []
   },
   "source": [
    "---\n",
    "## &#128721; STOP\n",
    "**Pause to add and commit your changes to your Git repository!**\n",
    "\n",
    "Take a moment to save your notebook, commit the changes to your Git repository using the commit message **\"Committing Part 2\"**, no need to push the changes to GitHub, but you can if you want. Remember to add the 'auto_price.csv' file if you haven't already. (1 point)\n",
    "\n"
   ]
  },
  {
   "cell_type": "markdown",
   "metadata": {},
   "source": [
    "---\n",
    "<a id=\"pillow\"></a>\n",
    "[Back to ToC](#toc)\n",
    "\n",
    "## Part 3: Working with a less familiar Python package (8 points)\n",
    "\n",
    "In this part of the assignment, you will install a Python package that you probably have not used before, and use it to perform simple tasks. Specifically, you will use a package called Pillow, which is capable of performing imaging tasks. From the Pillow documentation:\n",
    "\n",
    "> The Python Imaging Library adds image processing capabilities to your Python interpreter.\n",
    "\n",
    ">This library provides extensive file format support, an efficient internal representation, and fairly powerful image processing capabilities.\n",
    "\n",
    ">The core image library is designed for fast access to data stored in a few basic pixel formats. It should provide a solid foundation for a general image processing tool.\n",
    "\n",
    "The documentation for Pillow can be found at https://pillow.readthedocs.io/en/stable/. In particular, the Pillow tutorial section will be very helpful for this part: https://pillow.readthedocs.io/en/stable/handbook/tutorial.html"
   ]
  },
  {
   "cell_type": "markdown",
   "metadata": {},
   "source": [
    "&#9989; **Question 3.1 (1 point)**: If you don't already have the `pillow` package installed, what command could you use to install it? (you should run this command on the command line, if you need to).\n",
    "\n",
    "If you do already have it installed, what command did you use to install it?"
   ]
  },
  {
   "cell_type": "code",
<<<<<<< HEAD
   "execution_count": 8,
=======
   "execution_count": 12,
>>>>>>> b221b9bee5101e6b7ad5139feaab1c325ac4d49b
   "metadata": {},
   "outputs": [
    {
     "name": "stdout",
     "output_type": "stream",
     "text": [
<<<<<<< HEAD
      "Defaulting to user installation because normal site-packages is not writeable\n",
      "Requirement already satisfied: pillow in /opt/miniconda3/lib/python3.11/site-packages (10.4.0)\n"
=======
      "Requirement already satisfied: pillow in c:\\users\\shash\\appdata\\local\\programs\\python\\python312\\lib\\site-packages (10.4.0)\n"
>>>>>>> b221b9bee5101e6b7ad5139feaab1c325ac4d49b
     ]
    }
   ],
   "source": [
    "# Put code here\n",
<<<<<<< HEAD
    "!pip install pillow"
=======
    "!pip install pillow\n"
>>>>>>> b221b9bee5101e6b7ad5139feaab1c325ac4d49b
   ]
  },
  {
   "cell_type": "markdown",
   "metadata": {},
   "source": [
    "Once `Pillow` is installed, running the following cell should not result in an error message. **You might need to restart your Jupyter kernel after installing the package for this to work.** (Once everything works, it should give you no output at all.)"
   ]
  },
  {
   "cell_type": "code",
<<<<<<< HEAD
   "execution_count": 9,
=======
   "execution_count": 13,
>>>>>>> b221b9bee5101e6b7ad5139feaab1c325ac4d49b
   "metadata": {},
   "outputs": [],
   "source": [
    "import PIL"
   ]
  },
  {
   "cell_type": "markdown",
   "metadata": {},
   "source": [
    "&#9989; **Question 3.2 (2 point)**: In the Pillow tutorial, there is an example showing how to use Pillow to load in an image.  \n",
    "\n",
    "**Do this**: Modify that example to load in the 'logo.png' file. You do not need to display the image, just load it in and save it to a variable. To access the logo.png image you can download it with curl from https://raw.githubusercontent.com/hoolagans/CMSE202_FS24/main/logo.png"
   ]
  },
  {
   "cell_type": "code",
<<<<<<< HEAD
   "execution_count": 10,
   "metadata": {},
   "outputs": [],
   "source": [
    "### Put your code here\n",
=======
   "execution_count": 14,
   "metadata": {},
   "outputs": [],
   "source": [
    "### Put your code here### Put your code here\n",
>>>>>>> b221b9bee5101e6b7ad5139feaab1c325ac4d49b
    "from PIL import Image\n",
    "im = Image.open(\"logo.png\")"
   ]
  },
  {
   "cell_type": "markdown",
   "metadata": {},
   "source": [
    "&#9989; **Question 3.3 (2 points)**: Now following the tutorial, create a new image called `im_rotate` that is rotated 180 degrees using the 'rotate' function in Pillow. "
   ]
  },
  {
   "cell_type": "code",
<<<<<<< HEAD
   "execution_count": 11,
=======
   "execution_count": 15,
>>>>>>> b221b9bee5101e6b7ad5139feaab1c325ac4d49b
   "metadata": {},
   "outputs": [],
   "source": [
    "### Put your code here\n",
    "im_rotate = im.rotate(180)"
   ]
  },
  {
   "cell_type": "markdown",
   "metadata": {},
   "source": [
    "&#9989; **Question 3.4 (2 points)**: Now using the 'save' function, save your rotated image to a new file called 'logo_rotate.png'. Once your file is saved you can open the file to verify that the image is rotated 180 degrees. "
   ]
  },
  {
   "cell_type": "code",
<<<<<<< HEAD
   "execution_count": 12,
=======
   "execution_count": 16,
>>>>>>> b221b9bee5101e6b7ad5139feaab1c325ac4d49b
   "metadata": {},
   "outputs": [],
   "source": [
    "### Put your code here\n",
    "im_rotate.save(\"logo_rotate.png\")"
   ]
  },
  {
   "cell_type": "markdown",
   "metadata": {},
   "source": [
    "&#9989; **Question 3.5 (1 points)**: Now that you've created the new image and saved it in the file 'logo_rotate.png' go ahead and open the file to confirm the image has been rotated. Once you confirm it has been rotated, add, commit, and push the new image into your Github repository in your HW1 folder. If you haven't already done it, you can also add, commit, and push the original image. Write the code below that you used to add, commit and push the new image file. "
   ]
  },
  {
   "cell_type": "code",
<<<<<<< HEAD
   "execution_count": 20,
=======
   "execution_count": 17,
>>>>>>> b221b9bee5101e6b7ad5139feaab1c325ac4d49b
   "metadata": {},
   "outputs": [],
   "source": [
    "### Put your code here\n",
<<<<<<< HEAD
    "#git commit -a -m \"Adding new images\""
=======
    "#git add 'logo.png'\n",
    "#git add 'logo_rotate.png'\n",
    "#git commit -a -m \"adding new images\""
>>>>>>> b221b9bee5101e6b7ad5139feaab1c325ac4d49b
   ]
  },
  {
   "cell_type": "markdown",
   "metadata": {},
   "source": [
    "---\n",
    "## &#128721; STOP\n",
    "**Pause to commit your changes to your Git repository!**\n",
    "\n",
    "Take a moment to save your notebook, commit the changes to your Git repository using the commit message \"**Committing Part 3**\", no need to push the changes to GitHub yet, but you can if you want. (1 point)"
   ]
  },
  {
   "cell_type": "markdown",
   "metadata": {},
   "source": [
    "---\n",
    "<a id=\"classes\"></a>\n",
    "[Back to ToC](#toc)\n",
    "\n",
    "## Part 4: Practice with using Python classes (12 points)\n",
    "\n",
    "For this part of the assignment, you're going to work on fleshing out a partially constructed Python class and then experiment with using it to see if it works as intended.\n",
    "\n",
    "### The background\n",
    "\n",
    "The following code is a partially written Python class for tracking client details at a pet store. The goal of the class is to track pet and client details when a person drops off and picks up their pet for grooming at the pet store. The class has the `__init__` function completed which initializes all of the needed variables. `person_name` is intended to store the name of the pet owner, `pet_name` stores the name of the pet being dropped off, `pet_weight` stores the weight of the pet when it is dropped off, `review` stores the rating given for the grooming service and should be set when checking out (scores range from 1-10), `cost` records the total cost of the service, `drop_time` record the time the client dropped off their pet, and `pick_time` record the time that the client picked up their pet. The `checkin`, `checkout`, and `receipt` functions are incomplete and will require you to complete them in later questions in this section. "
   ]
  },
  {
   "cell_type": "code",
   "execution_count": 21,
   "metadata": {},
   "outputs": [],
   "source": [
    "# DO NOT EDIT THIS VERSION, this is the reference version of the code, do not edit this version.\n",
    "class PetStoreTransaction:\n",
    "\n",
    "    def __init__():\n",
    "        self.person_name = \"\"\n",
    "        self.pet_name = \"\"\n",
    "        self.pet_weight=None\n",
    "        self.review=None\n",
    "        self.cost=None\n",
    "        self.drop_time=None\n",
    "        self.pick_time=None\n",
    "        \n",
    "    def checkin(person_name, pet_name, pet_weight):\n",
    "        self.person_name = person_name\n",
    "        self.pet_name = pet_name\n",
    "        \n",
    "    def checkout():\n",
    "        pass\n",
    "    \n",
    "    def receipt():\n",
    "        pass"
   ]
  },
  {
   "cell_type": "markdown",
   "metadata": {},
   "source": [
    "### Modifying the class to alter its behavior and add new functionality\n",
    "\n",
    "In the code cell below, you're provided with a second copy of this new Python class, `PetStoreTransaction`. For the remainder of this section of the assignment, **you will be modifying this version of the class** to add new functionality and alter its behavior. You will then be provided with snippets of code designed to test your modifications and confirm that you've implemented them as intended.\n",
    "\n",
    "**When you make edits to the class provided below, make sure to run the cell to save your changes before running the later parts that use the class!**"
   ]
  },
  {
   "cell_type": "code",
<<<<<<< HEAD
   "execution_count": 24,
=======
   "execution_count": 28,
>>>>>>> b221b9bee5101e6b7ad5139feaab1c325ac4d49b
   "metadata": {},
   "outputs": [],
   "source": [
    "# EDIT THIS VERSION OF THE PYTHON CLASS\n",
    "# This should help to ensure that you can always fall back to the original version provided above, should you need to.\n",
    "\n",
    "class PetStoreTransaction:\n",
    "\n",
    "    def __init__(self):\n",
    "        self.person_name = \"\"\n",
    "        self.pet_name = \"\"\n",
    "        self.pet_weight = None\n",
    "        self.review = None\n",
    "        self.cost = None\n",
    "        self.drop_time = None\n",
    "        self.pick_time = None\n",
    "        \n",
<<<<<<< HEAD
    "    def checkin(self, person_name, pet_name, pet_weight, drop_time):\n",
=======
    "    def checkin(self, person_name, pet_name,pet_weight, drop_time):\n",
>>>>>>> b221b9bee5101e6b7ad5139feaab1c325ac4d49b
    "        self.person_name = person_name\n",
    "        self.pet_name = pet_name\n",
    "        self.pet_weight = pet_weight\n",
    "        self.drop_time = drop_time\n",
    "        \n",
    "        print(f\"{self.person_name} checked in with {self.pet_name} at {self.drop_time}. The pet weighs {self.pet_weight} at dropoff.\")\n",
    "        \n",
<<<<<<< HEAD
    "    def checkout(self):\n",
    "        pass\n",
=======
    "    def checkout(self, cost, pick_time, review):\n",
    "        # Store the checkout values\n",
    "        self.cost = cost\n",
    "        self.pick_time = pick_time\n",
    "        self.review = review\n",
    "        \n",
    "        # Print checkout summary\n",
    "        print(f\"{self.pet_name} was successfully groomed and picked up at {self.pick_time}. The total cost was ${self.cost} and the service was rated {self.review}/10.\")\n",
>>>>>>> b221b9bee5101e6b7ad5139feaab1c325ac4d49b
    "    \n",
    "    def receipt(self):\n",
    "        print(\" Name: \", self.person_name,\n",
    "              \"\\n Pet: \", self.pet_name,\n",
    "              \"\\n Weight: \", self.pet_weight,\n",
    "              \"\\n Cost: \", self.cost,\n",
    "              \"\\n Drop-off time: \", self.drop_time,\n",
    "              \"\\n Pick-up time: \", self.pick_time, \n",
    "              \"\\n Review: \", self.review)\n"
   ]
  },
  {
   "cell_type": "markdown",
   "metadata": {},
   "source": [
    "&#9989; **Questions 4.1 (2 points)**: **Complete the `checkin` function in the `PetStoreTransaction` class, then run the following code to see what the output is.** **DO NOT MODIFY THIS CODE CELL**. The checkin function should take as arguments the `person_name`, `pet_name`, `pet_weight`, and `drop_time` and should store all of those values to the initialized variables. Once the function is completed without errors it should print \"Bob checked in with R2D2 at 3PM . The pet weighs 500 lbs at dropoff.\""
   ]
  },
  {
   "cell_type": "code",
<<<<<<< HEAD
   "execution_count": 25,
=======
   "execution_count": 29,
>>>>>>> b221b9bee5101e6b7ad5139feaab1c325ac4d49b
   "metadata": {},
   "outputs": [
    {
     "name": "stdout",
     "output_type": "stream",
     "text": [
<<<<<<< HEAD
      "Bob checked in with R2D2 at 3PM. The pet weighs 500lbs at dropoff.\n"
=======
      "Bob checked in with  R2D2 at  3PM . The pet weighs  500lbs at dropoff\n"
>>>>>>> b221b9bee5101e6b7ad5139feaab1c325ac4d49b
     ]
    }
   ],
   "source": [
    "## DO NOT CHANGE THIS CELL ##\n",
    "\n",
    "# This is an example usage of the class \"PetStoreTransaction\" If it doesn't work, you need to make changes to the class.\n",
    "test1 = PetStoreTransaction()\n",
    "test1.checkin(\"Bob\", \"R2D2\", \"500lbs\", \"3PM\")"
   ]
  },
  {
   "cell_type": "markdown",
   "metadata": {},
   "source": [
    "If you need to write any code to test the `checkin` function, place that here. "
   ]
  },
  {
   "cell_type": "code",
   "execution_count": 30,
   "metadata": {},
   "outputs": [],
   "source": [
    "# Put exploratory code here, if needed\n"
   ]
  },
  {
   "cell_type": "markdown",
   "metadata": {},
   "source": [
    "&#9989; **Question 4.2 (4 points)**: Now, **complete a the class method named `checkout`.** It should take as input and record the `cost`, `pick_time`, and `review`. To conclude it should print some message that summarizes the checkout. Minimally the printed summary, should address the `pet_name`, `pick_time`, `cost`, and `review`. Once it is complete, you should run the following code and it should print \"R2D2 was successfully groomed and picked up at  4PM . The total cost was $499  and the service was rated 8 /10\". **Make sure to rerun the test code in Question 4.1 first since this uses the test1 object**"
   ]
  },
  {
   "cell_type": "code",
   "execution_count": 31,
   "metadata": {},
   "outputs": [
    {
     "name": "stdout",
     "output_type": "stream",
     "text": [
      "R2D2 was successfully groomed and picked up at 4PM. The total cost was $499 and the service was rated 8/10.\n"
     ]
    }
   ],
   "source": [
    "# Put your code here\n",
    "test1.checkout(499, \"4PM\", 8)\n"
   ]
  },
  {
   "cell_type": "markdown",
   "metadata": {},
   "source": [
    "&#9989; **Question 4.3 (2 points)**: There is currently a bug in the `receipt` function, which prints a summary of the pet store grooming service. Fix the bug and then write below what you had to do to fix the bug. If the bug is fixed, the code in the test cell below should run without error. "
   ]
  },
  {
   "cell_type": "code",
   "execution_count": 32,
   "metadata": {},
   "outputs": [
    {
     "name": "stdout",
     "output_type": "stream",
     "text": [
      " Name:  Bob \n",
      " Pet:  R2D2 \n",
      " Weight:  500lbs \n",
      " Cost:  499 \n",
      " Drop-off time:  3PM \n",
      " Pick-up time:  4PM \n",
      " Review:  8\n"
     ]
    }
   ],
   "source": [
    "## DO NOT CHANGE THIS CELL ##\n",
    "\n",
    "# receipt test code\n",
    "\n",
    "test1.receipt()"
   ]
  },
  {
   "cell_type": "markdown",
   "metadata": {},
   "source": [
    "**Added self to whats being passed in to the receipt function*"
   ]
  },
  {
   "cell_type": "markdown",
   "metadata": {},
   "source": [
    "### Using your new 'PetStoreTransaction' class\n",
    "\n",
    "Now that you completed and fixed the `PetStoreTransaction` class, let put it to use. \n",
    "\n",
    "&#9989; **Question 4.4 (4 points)**: Create an instance of your class and save it into a variable called `transaction1`. Once you've created the new instance, use the `checkin` function to check in a client. Choose any details you would like for the names, time, and weight as long as they are **different** from the details in the demo. Next, use the `checkout` function, again with **unique details from the example**. Finally, ensure everything is working by running the `receipt` function. "
   ]
  },
  {
   "cell_type": "code",
<<<<<<< HEAD
   "execution_count": 26,
=======
   "execution_count": 33,
>>>>>>> b221b9bee5101e6b7ad5139feaab1c325ac4d49b
   "metadata": {},
   "outputs": [
    {
     "name": "stdout",
     "output_type": "stream",
     "text": [
<<<<<<< HEAD
      "Shaun checked in with Lil Bro at 8AM. The pet weighs 25 at dropoff.\n"
     ]
    },
    {
     "ename": "TypeError",
     "evalue": "PetStoreTransaction.checkout() takes 1 positional argument but 4 were given",
     "output_type": "error",
     "traceback": [
      "\u001b[0;31m---------------------------------------------------------------------------\u001b[0m",
      "\u001b[0;31mTypeError\u001b[0m                                 Traceback (most recent call last)",
      "Cell \u001b[0;32mIn[26], line 7\u001b[0m\n\u001b[1;32m      3\u001b[0m transaction1 \u001b[38;5;241m=\u001b[39m PetStoreTransaction()\n\u001b[1;32m      5\u001b[0m transaction1\u001b[38;5;241m.\u001b[39mcheckin(\u001b[38;5;124m\"\u001b[39m\u001b[38;5;124mShaun\u001b[39m\u001b[38;5;124m\"\u001b[39m, \u001b[38;5;124m\"\u001b[39m\u001b[38;5;124mLil Bro\u001b[39m\u001b[38;5;124m\"\u001b[39m, \u001b[38;5;241m25\u001b[39m, \u001b[38;5;124m\"\u001b[39m\u001b[38;5;124m8AM\u001b[39m\u001b[38;5;124m\"\u001b[39m)\n\u001b[0;32m----> 7\u001b[0m \u001b[43mtransaction1\u001b[49m\u001b[38;5;241;43m.\u001b[39;49m\u001b[43mcheckout\u001b[49m\u001b[43m(\u001b[49m\u001b[38;5;241;43m75\u001b[39;49m\u001b[43m,\u001b[49m\u001b[43m \u001b[49m\u001b[38;5;124;43m\"\u001b[39;49m\u001b[38;5;124;43m2PM\u001b[39;49m\u001b[38;5;124;43m\"\u001b[39;49m\u001b[43m,\u001b[49m\u001b[43m \u001b[49m\u001b[38;5;241;43m9\u001b[39;49m\u001b[43m)\u001b[49m\n\u001b[1;32m      8\u001b[0m transaction1\u001b[38;5;241m.\u001b[39mreceipt()\n",
      "\u001b[0;31mTypeError\u001b[0m: PetStoreTransaction.checkout() takes 1 positional argument but 4 were given"
=======
      "Shaun checked in with  Lil Bro at  8AM . The pet weighs  25 at dropoff\n",
      "Lil Bro was successfully groomed and picked up at 2PM. The total cost was $75 and the service was rated 9/10.\n",
      " Name:  Shaun \n",
      " Pet:  Lil Bro \n",
      " Weight:  25 \n",
      " Cost:  75 \n",
      " Drop-off time:  8AM \n",
      " Pick-up time:  2PM \n",
      " Review:  9\n"
>>>>>>> b221b9bee5101e6b7ad5139feaab1c325ac4d49b
     ]
    }
   ],
   "source": [
    "### Put your code here\n",
<<<<<<< HEAD
=======
    "### Put your code here\n",
>>>>>>> b221b9bee5101e6b7ad5139feaab1c325ac4d49b
    "\n",
    "transaction1 = PetStoreTransaction()\n",
    "\n",
    "transaction1.checkin(\"Shaun\", \"Lil Bro\", 25, \"8AM\")\n",
    "\n",
    "transaction1.checkout(75, \"2PM\", 9)\n",
    "transaction1.receipt()\n",
    "\n"
   ]
  },
  {
   "cell_type": "markdown",
   "metadata": {},
   "source": [
    "---\n",
    "## &#128721; STOP\n",
    "**Pause to commit your changes to your Git repository!**\n",
    "\n",
    "Take a moment to save your notebook, commit the changes to your Git repository using the commit message \"**Committing Part 4**\", no need to push the changes to GitHub yet, but you can if you want. (1 point)"
   ]
  },
  {
   "cell_type": "markdown",
   "metadata": {},
   "source": [
    "---\n",
    "<a id=\"conclusion\"></a>\n",
    "[Back to ToC](#toc)\n",
    "\n",
    "## Part 5: Finishing (4 points)\n",
    "\n",
    "\n",
    "**Question 5.1 (2 points):** Have you put **your name** and **GitHub username** at the top of your notebook? YES\n",
    "\n",
    "**Question 5.2 (2 points):** Finally, push your repository to GitHub so that all of the commits that you have been making along the way show up on GitHub.\n",
    "\n",
    "```bash\n",
    "# Put the command you used to push to GitHub here\n",
    "```\n",
    "git push\n",
    "\n",
    "**NOTE:** The grader will be able to see your commit messages and whether you pushed the repo at this stage, if everything has gone as planned. Double-check that things look correct on **GitHub** before you submit this notebook to **D2L**.\n"
   ]
  },
  {
   "cell_type": "markdown",
   "metadata": {},
   "source": [
    "---\n",
    "## Assignment wrap-up\n",
    "\n",
    "Please fill out the form that appears when you run the code below.  **You must completely fill this out in order to receive credit for the assignment!**"
   ]
  },
  {
   "cell_type": "code",
<<<<<<< HEAD
   "execution_count": 27,
=======
   "execution_count": 35,
>>>>>>> b221b9bee5101e6b7ad5139feaab1c325ac4d49b
   "metadata": {
    "ExecuteTime": {
     "end_time": "2022-09-08T16:05:27.551532Z",
     "start_time": "2022-09-08T16:05:27.546612Z"
    }
   },
   "outputs": [
    {
     "data": {
      "text/html": [
       "\n",
       "<iframe \n",
       "\tsrc=\"https://forms.office.com/Pages/ResponsePage.aspx?id=MHEXIi9k2UGSEXQjetVofbihPqVa-WtNjOGYhCwpOgRURVVEQjZJVkVTWFM5Q1hYNkhWUjhXUkJUTS4u\" \n",
       "\twidth=\"800px\" \n",
       "\theight=\"600px\" \n",
       "\tframeborder=\"0\" \n",
       "\tmarginheight=\"0\" \n",
       "\tmarginwidth=\"0\">\n",
       "\tLoading...\n",
       "</iframe>\n"
      ],
      "text/plain": [
       "<IPython.core.display.HTML object>"
      ]
     },
<<<<<<< HEAD
     "execution_count": 27,
=======
     "execution_count": 35,
>>>>>>> b221b9bee5101e6b7ad5139feaab1c325ac4d49b
     "metadata": {},
     "output_type": "execute_result"
    }
   ],
   "source": [
    "from IPython.display import HTML\n",
    "HTML(\n",
    "\"\"\"\n",
    "<iframe \n",
    "\tsrc=\"https://forms.office.com/Pages/ResponsePage.aspx?id=MHEXIi9k2UGSEXQjetVofbihPqVa-WtNjOGYhCwpOgRURVVEQjZJVkVTWFM5Q1hYNkhWUjhXUkJUTS4u\" \n",
    "\twidth=\"800px\" \n",
    "\theight=\"600px\" \n",
    "\tframeborder=\"0\" \n",
    "\tmarginheight=\"0\" \n",
    "\tmarginwidth=\"0\">\n",
    "\tLoading...\n",
    "</iframe>\n",
    "\"\"\"\n",
    ")"
   ]
  },
  {
   "cell_type": "markdown",
   "metadata": {},
   "source": [
    "### Congratulations, you're done!\n",
    "\n",
    "Submit this assignment by uploading it to the course Desire2Learn web page.  Go to the **\"Homework Assignments\"** folder, find the dropbox link for Homework #1, and upload it there."
   ]
  },
  {
   "cell_type": "markdown",
   "metadata": {},
   "source": [
    "&#169; Copyright 2024,  Department of Computational Mathematics, Science and Engineering at Michigan State University"
   ]
  },
  {
   "cell_type": "code",
   "execution_count": null,
   "metadata": {},
   "outputs": [],
   "source": []
  }
 ],
 "metadata": {
  "anaconda-cloud": {},
  "kernelspec": {
   "display_name": "Python 3.11 (default)",
   "language": "python",
   "name": "python3"
  },
  "language_info": {
   "codemirror_mode": {
    "name": "ipython",
    "version": 3
   },
   "file_extension": ".py",
   "mimetype": "text/x-python",
   "name": "python",
   "nbconvert_exporter": "python",
   "pygments_lexer": "ipython3",
   "version": "3.12.6"
  },
  "latex_envs": {
   "LaTeX_envs_menu_present": true,
   "autoclose": false,
   "autocomplete": true,
   "bibliofile": "biblio.bib",
   "cite_by": "apalike",
   "current_citInitial": 1,
   "eqLabelWithNumbers": true,
   "eqNumInitial": 1,
   "hotkeys": {
    "equation": "Ctrl-E",
    "itemize": "Ctrl-I"
   },
   "labels_anchors": false,
   "latex_user_defs": false,
   "report_style_numbering": false,
   "user_envs_cfg": false
  },
  "toc": {
   "base_numbering": 1,
   "nav_menu": {},
   "number_sections": true,
   "sideBar": true,
   "skip_h1_title": false,
   "title_cell": "Table of Contents",
   "title_sidebar": "Contents",
   "toc_cell": false,
   "toc_position": {},
   "toc_section_display": true,
   "toc_window_display": false
  },
  "widgets": {
   "application/vnd.jupyter.widget-state+json": {
    "state": {},
    "version_major": 2,
    "version_minor": 0
   }
  }
 },
 "nbformat": 4,
 "nbformat_minor": 4
}
